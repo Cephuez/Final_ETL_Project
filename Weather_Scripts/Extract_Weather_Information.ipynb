{
 "cells": [
  {
   "cell_type": "code",
   "execution_count": 1,
   "id": "7e83adea-d18c-4c6c-bfc6-5bf4bc93b44c",
   "metadata": {},
   "outputs": [],
   "source": [
    "%load_ext autoreload\n",
    "%autoreload 2\n",
    "import boto3\n",
    "import requests\n",
    "import urllib.request\n",
    "import httpx\n",
    "import os\n",
    "import pandas as pd\n",
    "import pyspark\n",
    "import json\n",
    "import pyarrow\n",
    "import logging\n",
    "\n",
    "from GetWeather import Import_Weather_Data\n",
    "from SetupWeatherData import Setup_Weather_Data\n",
    "from Upload_Weather_Data import UploadWeatherData\n",
    "from ExportWeatherData import Export_Weather_Data\n",
    "from SaveWeatherTables import Save_Weather_Tables\n",
    "\n",
    "from dotenv import load_dotenv\n",
    "\n",
    "from pyspark.sql import SparkSession\n",
    "from pyspark.sql.utils import AnalysisException\n",
    "from pyspark.sql import Row\n",
    "from pyspark.sql.window import Window\n",
    "from py4j.protocol import Py4JJavaError\n",
    "from datetime import datetime, timedelta\n",
    "from pyspark.sql.functions import *\n",
    "from pyspark.sql.types import IntegerType, BooleanType"
   ]
  },
  {
   "cell_type": "code",
   "execution_count": 2,
   "id": "f68c8460-1f89-47d2-a596-3e7f12726b3b",
   "metadata": {},
   "outputs": [],
   "source": [
    "logging.basicConfig(\n",
    "    level = logging.INFO,\n",
    "    format= '%(asctime)s - %(levelname)s - %(message)s'\n",
    ")\n",
    "logger = logging.getLogger(__name__)"
   ]
  },
  {
   "cell_type": "code",
   "execution_count": 3,
   "id": "b6428a2a-a10f-40ca-b699-3b88a45f7d56",
   "metadata": {},
   "outputs": [],
   "source": [
    "# Hello Github"
   ]
  },
  {
   "cell_type": "code",
   "execution_count": 4,
   "id": "21474ed6-609a-4835-8106-04ee6b8d7888",
   "metadata": {},
   "outputs": [
    {
     "data": {
      "text/plain": [
       "True"
      ]
     },
     "execution_count": 4,
     "metadata": {},
     "output_type": "execute_result"
    }
   ],
   "source": [
    "# Load my .env files for API keys\n",
    "\n",
    "# Get Current Directory\n",
    "current_directory = os.getcwd()\n",
    "\n",
    "# Load my scripts for API keys\n",
    "#base_dir = os.path.abspath(os.path.join(current_directory, \"../../sensitive_data\"))\n",
    "#print(base_dir)\n",
    "base_dir = \"/home/cephuez/sensitive_data\"\n",
    "\n",
    "# Access my API info\n",
    "weather_env_path = os.path.join(base_dir, \"weather_api.env\")\n",
    "aws_env_path = os.path.join(base_dir, \"aws_info.env\")\n",
    "google_env_path = os.path.join(base_dir, \"google_info.env\")\n",
    "azure_env_path = os.path.join(base_dir, \"azure_info.env\")\n",
    "\n",
    "load_dotenv(dotenv_path=weather_env_path)\n",
    "load_dotenv(dotenv_path=aws_env_path)\n",
    "load_dotenv(dotenv_path=google_env_path)\n",
    "load_dotenv(dotenv_path=azure_env_path)"
   ]
  },
  {
   "cell_type": "code",
   "execution_count": 5,
   "id": "8d418cc9-e578-4e4d-bb82-c3d61c35c1f4",
   "metadata": {},
   "outputs": [
    {
     "name": "stderr",
     "output_type": "stream",
     "text": [
      "25/06/24 16:21:08 WARN Utils: Your hostname, DESKTOP-J91G8VC resolves to a loopback address: 127.0.1.1; using 172.19.120.149 instead (on interface eth0)\n",
      "25/06/24 16:21:08 WARN Utils: Set SPARK_LOCAL_IP if you need to bind to another address\n",
      "Setting default log level to \"WARN\".\n",
      "To adjust logging level use sc.setLogLevel(newLevel). For SparkR, use setLogLevel(newLevel).\n",
      "25/06/24 16:21:09 WARN NativeCodeLoader: Unable to load native-hadoop library for your platform... using builtin-java classes where applicable\n",
      "25/06/24 16:21:10 WARN Utils: Service 'SparkUI' could not bind on port 4040. Attempting port 4041.\n"
     ]
    }
   ],
   "source": [
    "spark = SparkSession.builder.appName(\"Weather_Session\").getOrCreate()\n",
    "\n",
    "# Set up some log levels. I'll renable them if I want to check for some performance checks\n",
    "spark.sparkContext.setLogLevel(\"WARN\")\n",
    "spark.sparkContext.setLogLevel(\"ERROR\")"
   ]
  },
  {
   "cell_type": "code",
   "execution_count": 26,
   "id": "33837c3f-1430-4335-bb29-9abeb200f566",
   "metadata": {},
   "outputs": [],
   "source": [
    "# I want to make a timestamp of when I gathered my data.\n",
    "# timestamp = \"Year-Month-Day_Hour-Minute\n",
    "timestamp = datetime.now().strftime(\"%Y-%B-%d_%H-%M\")\n",
    "\n",
    "# Keep track of timestamp\n",
    "weather_data = Import_Weather_Data(timestamp)\n",
    "\n",
    "# Gets the filename\n",
    "# filename are named based on timestamp\n",
    "# filename= \"weather_data/50_City + filename\"\n",
    "filename = weather_data.get_filename()"
   ]
  },
  {
   "cell_type": "code",
   "execution_count": 25,
   "id": "4b119194-5358-4565-b8ec-c2ca88ace26b",
   "metadata": {},
   "outputs": [],
   "source": [
    "# Obtain the weather data info by making a request through OpenWeatherMap's API\n",
    "setup_weather_data = Setup_Weather_Data(spark, filename, timestamp)\n",
    "\n",
    "# Get Dataframe created json from API\n",
    "df = setup_weather_data.get_data_frame()"
   ]
  },
  {
   "cell_type": "code",
   "execution_count": 28,
   "id": "ea1b9895-094a-4e9f-a45d-bc036d3ad61b",
   "metadata": {},
   "outputs": [],
   "source": [
    "# Get weather result directory name\n",
    "# weather_result_filename = \"weather_results/50_City_Results + timestamp\"\n",
    "weather_result_filename = setup_weather_data.get_weather_result_filename()\n",
    "\n",
    "# Stop showing warning logs in console when pushing data to Azure\n",
    "logging.getLogger('azure').setLevel(logging.WARNING)"
   ]
  },
  {
   "cell_type": "code",
   "execution_count": 31,
   "id": "eccf2c6b-0d2d-4c82-b979-684aedcdbb47",
   "metadata": {},
   "outputs": [],
   "source": [
    "# Make sure to pass in directory name where tables will be saved\n",
    "export_data = Export_Weather_Data(weather_result_filename)"
   ]
  },
  {
   "cell_type": "code",
   "execution_count": 32,
   "id": "279b4005-3771-4c78-b6d0-de8a5e5727dc",
   "metadata": {},
   "outputs": [],
   "source": [
    "# Pass timestamp to use when saving results based on date retrieved\n",
    "save_tables = Save_Weather_Tables(timestamp)"
   ]
  },
  {
   "cell_type": "code",
   "execution_count": 33,
   "id": "0e7bfd86-9451-4da5-9823-327fff11bea4",
   "metadata": {},
   "outputs": [
    {
     "name": "stdout",
     "output_type": "stream",
     "text": [
      "Make Directory\n"
     ]
    }
   ],
   "source": [
    "# Create location DFx\n",
    "location_df = df.select(\n",
    "    df[\"id\"].alias(\"ID\"),\n",
    "    df[\"name\"].alias(\"City\"),\n",
    "    df[\"sys.country\"].alias(\"Country\"),\n",
    "    df[\"coord.lat\"].alias(\"Latitude\"),\n",
    "    df[\"coord.lon\"].alias(\"Longitude\")\n",
    ").orderBy(\"ID\")\n",
    "\n",
    "# Save a copy of this \"Location_Table\"\n",
    "save_tables.store_tables(location_df, \"Location_Table\")"
   ]
  },
  {
   "cell_type": "code",
   "execution_count": 34,
   "id": "87fa2434-b849-43f9-ad88-e41290ad52f4",
   "metadata": {},
   "outputs": [
    {
     "name": "stdout",
     "output_type": "stream",
     "text": [
      "Make Directory\n"
     ]
    }
   ],
   "source": [
    "# Create Temperature & Pressure Table\n",
    "temperature_df = df.select(\n",
    "    df[\"id\"].alias(\"City_ID\"),\n",
    "    df[\"main.temp\"].alias(\"Temp\"),\n",
    "    df[\"main.temp_max\"].alias(\"Temp_Max\"),\n",
    "    df[\"main.temp_min\"].alias(\"Temp_Min\"),\n",
    "    df[\"main.feels_like\"].alias(\"Feels_Like\"),\n",
    "    df[\"main.humidity\"].alias(\"Humidity\"),\n",
    "    df[\"main.pressure\"].alias(\"Pressure\"),\n",
    "    df[\"main.sea_level\"].alias(\"Sea_Level\")\n",
    ").orderBy(\"City_ID\")\n",
    "\n",
    "# Save a copy of this \"Temperature_Table\"\n",
    "save_tables.store_tables(temperature_df, \"Temperature_Table\")"
   ]
  },
  {
   "cell_type": "code",
   "execution_count": 35,
   "id": "40202329-fcbb-45fd-bef2-94fcf6ebb4c5",
   "metadata": {},
   "outputs": [
    {
     "name": "stdout",
     "output_type": "stream",
     "text": [
      "Make Directory\n"
     ]
    }
   ],
   "source": [
    "# Create Wind & Clouds Table\n",
    "wind_df = df.select(\n",
    "    df[\"id\"].alias(\"City_ID\"),\n",
    "    df[\"clouds.all\"].alias(\"Cloudiness_Percentage\"),\n",
    "    df[\"wind.deg\"].alias(\"Wind_Direction_Degree\"),\n",
    "    df[\"wind.gust\"].alias(\"Gust_Speed\"),\n",
    "    df[\"wind.speed\"].alias(\"Wind_Speed\")\n",
    ").orderBy(\"City_ID\")\n",
    "\n",
    "# Save a copy of this \"Wind_Cloud_Table\"\n",
    "save_tables.store_tables(wind_df, \"Wind_Cloud_Table\")"
   ]
  },
  {
   "cell_type": "code",
   "execution_count": 36,
   "id": "83097b91-ca05-4c19-a1c6-d20c2a0c2836",
   "metadata": {},
   "outputs": [
    {
     "name": "stdout",
     "output_type": "stream",
     "text": [
      "Make Directory\n"
     ]
    }
   ],
   "source": [
    "# Create Weather Description\n",
    "weather_desc_df = df.select(\n",
    "    df[\"id\"].alias(\"City_ID\"),\n",
    "    df[\"weather\"][0][\"main\"].alias(\"Main_Weather\"),\n",
    "    df[\"weather\"][0][\"description\"].alias(\"Description\"),\n",
    "    df[\"weather\"][0][\"icon\"].alias(\"Icon\")\n",
    ").orderBy(\"City_ID\")\n",
    "\n",
    "# Save a copy of this \"Weather_Description_Table\"\n",
    "save_tables.store_tables(weather_desc_df, \"Weather_Description_Table\")"
   ]
  },
  {
   "cell_type": "code",
   "execution_count": 37,
   "id": "92a024cb-3e12-4ea9-9804-211a87b6928c",
   "metadata": {},
   "outputs": [
    {
     "name": "stdout",
     "output_type": "stream",
     "text": [
      "Make Directory\n"
     ]
    }
   ],
   "source": [
    "# Sunrise_Sunset_Table\n",
    "sunrise_sunset_df = df.select(\n",
    "    df[\"id\"].alias(\"City_ID\"),\n",
    "    df[\"sys.sunrise\"].alias(\"Sunrise\"),\n",
    "    df[\"sys.sunset\"].alias(\"Sunset\"),\n",
    "    df[\"timezone\"].alias(\"Timezone\")\n",
    ").orderBy(\"City_ID\")\n",
    "\n",
    "# Save a copy of this \"Sunrise_Sunset_Table\"\n",
    "save_tables.store_tables(sunrise_sunset_df, \"Sunrise_Sunset_Table\")"
   ]
  },
  {
   "cell_type": "code",
   "execution_count": 39,
   "id": "b572c51e-0cb9-48d2-b458-b6f1acab15a2",
   "metadata": {},
   "outputs": [
    {
     "name": "stdout",
     "output_type": "stream",
     "text": [
      "AWS Table: weather_tables/2025-June-24_19-11/Temperature_Table.parquet uploaded\n",
      "AWS Table: weather_tables/2025-June-24_19-11/Temperature_Table.json uploaded\n",
      "AWS Table: weather_tables/2025-June-24_19-11/Weather_Description_Table.csv uploaded\n",
      "AWS Table: weather_tables/2025-June-24_19-11/Location_Table.json uploaded\n",
      "AWS Table: weather_tables/2025-June-24_19-11/Location_Table.parquet uploaded\n",
      "AWS Table: weather_tables/2025-June-24_19-11/Wind_Cloud_Table.parquet uploaded\n",
      "AWS Table: weather_tables/2025-June-24_19-11/Weather_Description_Table.json uploaded\n",
      "AWS Table: weather_tables/2025-June-24_19-11/Sunrise_Sunset_Table.json uploaded\n",
      "AWS Table: weather_tables/2025-June-24_19-11/Wind_Cloud_Table.csv uploaded\n",
      "AWS Table: weather_tables/2025-June-24_19-11/Sunrise_Sunset_Table.csv uploaded\n",
      "AWS Table: weather_tables/2025-June-24_19-11/Sunrise_Sunset_Table.parquet uploaded\n",
      "AWS Table: weather_tables/2025-June-24_19-11/Temperature_Table.csv uploaded\n",
      "AWS Table: weather_tables/2025-June-24_19-11/Location_Table.csv uploaded\n",
      "AWS Table: weather_tables/2025-June-24_19-11/Weather_Description_Table.parquet uploaded\n",
      "AWS Table: weather_tables/2025-June-24_19-11/Wind_Cloud_Table.json uploaded\n",
      "Google Table: weather_tables/2025-June-24_19-11/Temperature_Table.parquet uploaded\n",
      "Google Table: weather_tables/2025-June-24_19-11/Temperature_Table.json uploaded\n",
      "Google Table: weather_tables/2025-June-24_19-11/Weather_Description_Table.csv uploaded\n",
      "Google Table: weather_tables/2025-June-24_19-11/Location_Table.json uploaded\n",
      "Google Table: weather_tables/2025-June-24_19-11/Location_Table.parquet uploaded\n",
      "Google Table: weather_tables/2025-June-24_19-11/Wind_Cloud_Table.parquet uploaded\n",
      "Google Table: weather_tables/2025-June-24_19-11/Weather_Description_Table.json uploaded\n",
      "Google Table: weather_tables/2025-June-24_19-11/Sunrise_Sunset_Table.json uploaded\n",
      "Google Table: weather_tables/2025-June-24_19-11/Wind_Cloud_Table.csv uploaded\n",
      "Google Table: weather_tables/2025-June-24_19-11/Sunrise_Sunset_Table.csv uploaded\n",
      "Google Table: weather_tables/2025-June-24_19-11/Sunrise_Sunset_Table.parquet uploaded\n",
      "Google Table: weather_tables/2025-June-24_19-11/Temperature_Table.csv uploaded\n",
      "Google Table: weather_tables/2025-June-24_19-11/Location_Table.csv uploaded\n",
      "Google Table: weather_tables/2025-June-24_19-11/Weather_Description_Table.parquet uploaded\n",
      "Google Table: weather_tables/2025-June-24_19-11/Wind_Cloud_Table.json uploaded\n",
      "Azure Table: weather_tables/2025-June-24_19-11/Temperature_Table.parquet uploaded\n",
      "Azure Table: weather_tables/2025-June-24_19-11/Temperature_Table.json uploaded\n",
      "Azure Table: weather_tables/2025-June-24_19-11/Weather_Description_Table.csv uploaded\n",
      "Azure Table: weather_tables/2025-June-24_19-11/Location_Table.json uploaded\n",
      "Azure Table: weather_tables/2025-June-24_19-11/Location_Table.parquet uploaded\n",
      "Azure Table: weather_tables/2025-June-24_19-11/Wind_Cloud_Table.parquet uploaded\n",
      "Azure Table: weather_tables/2025-June-24_19-11/Weather_Description_Table.json uploaded\n",
      "Azure Table: weather_tables/2025-June-24_19-11/Sunrise_Sunset_Table.json uploaded\n",
      "Azure Table: weather_tables/2025-June-24_19-11/Wind_Cloud_Table.csv uploaded\n",
      "Azure Table: weather_tables/2025-June-24_19-11/Sunrise_Sunset_Table.csv uploaded\n",
      "Azure Table: weather_tables/2025-June-24_19-11/Sunrise_Sunset_Table.parquet uploaded\n",
      "Azure Table: weather_tables/2025-June-24_19-11/Temperature_Table.csv uploaded\n",
      "Azure Table: weather_tables/2025-June-24_19-11/Location_Table.csv uploaded\n",
      "Azure Table: weather_tables/2025-June-24_19-11/Weather_Description_Table.parquet uploaded\n",
      "Azure Table: weather_tables/2025-June-24_19-11/Wind_Cloud_Table.json uploaded\n"
     ]
    }
   ],
   "source": [
    "# Save current tables\n",
    "# Save a copy of the tables into the cloud service\n",
    "save_tables.store_into_cloud()"
   ]
  },
  {
   "cell_type": "code",
   "execution_count": 18,
   "id": "4c3fbddc-68fb-4a5d-bb9d-a9189392f6a9",
   "metadata": {},
   "outputs": [
    {
     "name": "stdout",
     "output_type": "stream",
     "text": [
      "+-------+----------+-------+--------+--------+--------------+--------+----+\n",
      "|     ID|      CITY|COUNTRY| SUNRISE|  SUNSET|DAYLIGHT_HOURS|TIMEZONE|RANK|\n",
      "+-------+----------+-------+--------+--------+--------------+--------+----+\n",
      "|3413829| Reykjavik|     IS|20:56:47|18:03:09|         21.11|       0|   1|\n",
      "| 658225|  Helsinki|     FI|21:55:36|16:50:03|         18.91|   10800|   2|\n",
      "|3143244|      Oslo|     NO|21:55:19|16:43:51|         18.81|    7200|   3|\n",
      "|2673730| Stockholm|     SE|21:32:22|16:08:14|          18.6|    7200|   4|\n",
      "| 524901|    Moscow|     RU|21:45:53|15:18:18|         17.54|   10800|   5|\n",
      "|2618425|Copenhagen|     DK|22:26:42|15:57:55|         17.52|    7200|   6|\n",
      "|2964574|    Dublin|     IE|22:57:37|15:57:17|         16.99|    3600|   7|\n",
      "|2950159|    Berlin|     DE|22:44:18|15:33:33|         16.82|    7200|   8|\n",
      "|2759794| Amsterdam|     NL|23:19:17|16:06:45|         16.79|    7200|   9|\n",
      "| 756135|    Warsaw|     PL|22:15:37|15:01:25|         16.76|    7200|  10|\n",
      "+-------+----------+-------+--------+--------+--------------+--------+----+\n",
      "\n"
     ]
    }
   ],
   "source": [
    "# Which cities have the longest daylight duration?\n",
    "# Convert the time into readable time. Order by daylight hour\n",
    "top_10_cities = sunrise_sunset_df.select(\n",
    "    col(\"City_ID\"), \n",
    "    date_format(from_unixtime(col(\"Sunrise\") + col(\"Timezone\")),\"HH:mm:ss\").alias(\"Sunrise\"),\n",
    "    date_format(from_unixtime(col(\"Sunset\") + col(\"Timezone\")),\"HH:mm:ss\").alias(\"Sunset\"), \n",
    "    round(((col(\"Sunset\") - col(\"Sunrise\")) / 3600),2).alias(\"Daylight_Hours\"),\n",
    "    col(\"Timezone\")).orderBy(col(\"Daylight_Hours\").desc()).limit(10)\n",
    "\n",
    "final_table = top_10_cities.join(location_df, top_10_cities[\"City_ID\"] == location_df[\"ID\"]\n",
    "                ).select(location_df[\"ID\"], \n",
    "                         location_df[\"City\"], \n",
    "                         location_df[\"Country\"], \n",
    "                         top_10_cities[\"Sunrise\"], \n",
    "                         top_10_cities[\"Sunset\"], \n",
    "                         top_10_cities[\"Daylight_Hours\"], \n",
    "                         top_10_cities[\"Timezone\"]\n",
    "                ).orderBy(col(\"Daylight_Hours\").desc())\n",
    "#final_table.show()\n",
    "\n",
    "final_table.createOrReplaceTempView(\"Final_Table\")\n",
    "\n",
    "query = '''\n",
    "        SELECT ID, CITY, COUNTRY, SUNRISE, SUNSET, DAYLIGHT_HOURS, TIMEZONE, RANK()OVER(ORDER BY DAYLIGHT_HOURS DESC) RANK\n",
    "        FROM FINAL_TABLE\n",
    "    '''\n",
    "result = spark.sql(query)\n",
    "result.show()\n",
    "\n",
    "\n",
    "data = result.toPandas()\n",
    "\n",
    "export_data.to_parquet(data, 'Longest_Daytime.parquet')\n",
    "export_data.to_csv(data, 'Longest_Daytime.csv')\n",
    "export_data.to_json(data, 'Longest_Daytime.json')"
   ]
  },
  {
   "cell_type": "code",
   "execution_count": 19,
   "id": "d643a07f-1d79-4f07-939f-55b88803d338",
   "metadata": {},
   "outputs": [
    {
     "name": "stdout",
     "output_type": "stream",
     "text": [
      "+-------+---------+-------+-----+----------+----------+----+\n",
      "|CITY_ID|     CITY|COUNTRY| TEMP|FEELS_LIKE|DIFFERENCE|RANK|\n",
      "+-------+---------+-------+-----+----------+----------+----+\n",
      "|6167865|  Toronto|     CA|33.86|     39.84|      5.98|   1|\n",
      "|1880252|Singapore|     SG|28.82|     34.66|      5.84|   2|\n",
      "|1275339|   Mumbai|     IN|27.99|     32.54|      4.55|   3|\n",
      "|1581130|    Hanoi|     VN| 27.0|     30.95|      3.95|   4|\n",
      "| 292223|    Dubai|     AE|31.96|     35.56|       3.6|   5|\n",
      "|1701668|   Manila|     PH| 26.7|     29.98|      3.28|   6|\n",
      "|1609350|  Bangkok|     TH|27.94|     30.81|      2.87|   7|\n",
      "|4887398|  Chicago|     US|30.56|     33.06|       2.5|   8|\n",
      "|5128581| New York|     US|37.92|     40.36|      2.44|   9|\n",
      "|  98182|  Baghdad|     IQ|32.95|     30.56|      2.39|  10|\n",
      "+-------+---------+-------+-----+----------+----------+----+\n",
      "\n"
     ]
    }
   ],
   "source": [
    "# Which city has the highest difference between actual temperature and feels-like temperature?\n",
    "# temperature_df\n",
    "top_10_cities = temperature_df.select(\n",
    "    col(\"City_ID\"), \n",
    "    col(\"Temp\"), \n",
    "    col(\"Feels_Like\"), \n",
    "    round(abs(col(\"Temp\") - col(\"Feels_Like\")),2).alias(\"Difference\")\n",
    "        ).orderBy(col(\"Difference\").desc()).limit(10)\n",
    "#top_10_cities.show()\n",
    "\n",
    "final_top_10_cities_temperature = top_10_cities.join(location_df, top_10_cities[\"City_ID\"] == location_df[\"ID\"]).select(\n",
    "    top_10_cities[\"City_ID\"], \n",
    "    location_df[\"City\"], \n",
    "    location_df[\"Country\"], \n",
    "    top_10_cities[\"Temp\"], \n",
    "    top_10_cities[\"Feels_Like\"], \n",
    "    top_10_cities[\"Difference\"]\n",
    "        ).orderBy(col(\"Difference\").desc())\n",
    "#final_top_10_cities_temperature.show()\n",
    "\n",
    "final_top_10_cities_temperature.createOrReplaceTempView(\"Final_Table\")\n",
    "\n",
    "query = '''\n",
    "        SELECT CITY_ID, CITY, COUNTRY, TEMP, FEELS_LIKE, DIFFERENCE, RANK()OVER(ORDER BY DIFFERENCE DESC) RANK\n",
    "        FROM FINAL_TABLE\n",
    "    '''\n",
    "\n",
    "final_result = spark.sql(query)\n",
    "final_result.show()\n",
    "\n",
    "data = final_result.toPandas()\n",
    "\n",
    "export_data.to_parquet(data, 'Temperature_Feel_Like_Temperature_Diff.parquet')\n",
    "export_data.to_csv(data, 'Temperature_Feel_Like_Temperature_Diff.csv')\n",
    "export_data.to_json(data, 'Temperature_Feel_Like_Temperature_Diff.json')"
   ]
  },
  {
   "cell_type": "code",
   "execution_count": 20,
   "id": "658aa716-7879-40d9-a1a6-59a417f3468a",
   "metadata": {},
   "outputs": [],
   "source": [
    "weather_uploader = UploadWeatherData(weather_result_filename)"
   ]
  },
  {
   "cell_type": "code",
   "execution_count": 21,
   "id": "5c864a72-686f-4135-a171-7e26c90c794f",
   "metadata": {},
   "outputs": [
    {
     "name": "stdout",
     "output_type": "stream",
     "text": [
      "AWS Result: weather_results/50_City_Results_2025-June-24_16-21/Temperature_Feel_Like_Temperature_Diff.parquet uploaded\n",
      "AWS Result: weather_results/50_City_Results_2025-June-24_16-21/Longest_Daytime.csv uploaded\n",
      "AWS Result: weather_results/50_City_Results_2025-June-24_16-21/Longest_Daytime.parquet uploaded\n",
      "AWS Result: weather_results/50_City_Results_2025-June-24_16-21/Longest_Daytime.json uploaded\n",
      "AWS Result: weather_results/50_City_Results_2025-June-24_16-21/Temperature_Feel_Like_Temperature_Diff.json uploaded\n",
      "AWS Result: weather_results/50_City_Results_2025-June-24_16-21/Temperature_Feel_Like_Temperature_Diff.csv uploaded\n"
     ]
    }
   ],
   "source": [
    "# Upload to AWS\n",
    "weather_uploader.upload_to_AWS()"
   ]
  },
  {
   "cell_type": "code",
   "execution_count": 22,
   "id": "9424fd81-54a9-4680-bc82-66672d7024f7",
   "metadata": {},
   "outputs": [
    {
     "name": "stdout",
     "output_type": "stream",
     "text": [
      "Google Result: weather_results/50_City_Results_2025-June-24_16-21/Temperature_Feel_Like_Temperature_Diff.parquet\n",
      "Google Result: weather_results/50_City_Results_2025-June-24_16-21/Longest_Daytime.csv\n",
      "Google Result: weather_results/50_City_Results_2025-June-24_16-21/Longest_Daytime.parquet\n",
      "Google Result: weather_results/50_City_Results_2025-June-24_16-21/Longest_Daytime.json\n",
      "Google Result: weather_results/50_City_Results_2025-June-24_16-21/Temperature_Feel_Like_Temperature_Diff.json\n",
      "Google Result: weather_results/50_City_Results_2025-June-24_16-21/Temperature_Feel_Like_Temperature_Diff.csv\n"
     ]
    }
   ],
   "source": [
    "weather_uploader.upload_to_Google()"
   ]
  },
  {
   "cell_type": "code",
   "execution_count": 23,
   "id": "c4dca448-1326-465e-933c-1bb8ffd097af",
   "metadata": {},
   "outputs": [
    {
     "name": "stdout",
     "output_type": "stream",
     "text": [
      "Azure Result: weather_results/50_City_Results_2025-June-24_16-21/Temperature_Feel_Like_Temperature_Diff.parquet uploaded\n",
      "Azure Result: weather_results/50_City_Results_2025-June-24_16-21/Longest_Daytime.csv uploaded\n",
      "Azure Result: weather_results/50_City_Results_2025-June-24_16-21/Longest_Daytime.parquet uploaded\n",
      "Azure Result: weather_results/50_City_Results_2025-June-24_16-21/Longest_Daytime.json uploaded\n",
      "Azure Result: weather_results/50_City_Results_2025-June-24_16-21/Temperature_Feel_Like_Temperature_Diff.json uploaded\n",
      "Azure Result: weather_results/50_City_Results_2025-June-24_16-21/Temperature_Feel_Like_Temperature_Diff.csv uploaded\n"
     ]
    }
   ],
   "source": [
    "weather_uploader.upload_to_Azure()"
   ]
  },
  {
   "cell_type": "code",
   "execution_count": null,
   "id": "e41e469f-9628-469e-921c-4e28be5a5170",
   "metadata": {},
   "outputs": [],
   "source": []
  },
  {
   "cell_type": "code",
   "execution_count": null,
   "id": "df822081-c488-4a29-a676-dee900295a50",
   "metadata": {},
   "outputs": [],
   "source": []
  }
 ],
 "metadata": {
  "kernelspec": {
   "display_name": "Python 3 (ipykernel)",
   "language": "python",
   "name": "python3"
  },
  "language_info": {
   "codemirror_mode": {
    "name": "ipython",
    "version": 3
   },
   "file_extension": ".py",
   "mimetype": "text/x-python",
   "name": "python",
   "nbconvert_exporter": "python",
   "pygments_lexer": "ipython3",
   "version": "3.10.17"
  }
 },
 "nbformat": 4,
 "nbformat_minor": 5
}
