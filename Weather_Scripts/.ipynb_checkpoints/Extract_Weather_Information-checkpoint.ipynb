{
 "cells": [
  {
   "cell_type": "code",
   "execution_count": 144,
   "id": "7e83adea-d18c-4c6c-bfc6-5bf4bc93b44c",
   "metadata": {},
   "outputs": [
    {
     "name": "stdout",
     "output_type": "stream",
     "text": [
      "The autoreload extension is already loaded. To reload it, use:\n",
      "  %reload_ext autoreload\n"
     ]
    }
   ],
   "source": [
    "%load_ext autoreload\n",
    "%autoreload 2\n",
    "import boto3\n",
    "import requests\n",
    "import urllib.request\n",
    "import httpx\n",
    "import os\n",
    "import pandas as pd\n",
    "import pyspark\n",
    "import json\n",
    "import pyarrow\n",
    "import logging\n",
    "\n",
    "from GetWeather import Import_Weather_Data\n",
    "from SetupWeatherData import Setup_Weather_Data\n",
    "from Upload_Weather_Data import UploadWeatherData\n",
    "from ExportWeatherData import Export_Weather_Data\n",
    "\n",
    "from dotenv import load_dotenv\n",
    "\n",
    "from pyspark.sql import SparkSession\n",
    "from pyspark.sql.utils import AnalysisException\n",
    "from pyspark.sql import Row\n",
    "from pyspark.sql.window import Window\n",
    "from py4j.protocol import Py4JJavaError\n",
    "from datetime import datetime, timedelta\n",
    "from pyspark.sql.functions import *\n",
    "from pyspark.sql.types import IntegerType, BooleanType"
   ]
  },
  {
   "cell_type": "code",
   "execution_count": 140,
   "id": "f68c8460-1f89-47d2-a596-3e7f12726b3b",
   "metadata": {},
   "outputs": [],
   "source": [
    "logging.basicConfig(\n",
    "    level = logging.INFO,\n",
    "    format= '%(asctime)s - %(levelname)s - %(message)s'\n",
    ")\n",
    "logger = logging.getLogger(__name__)"
   ]
  },
  {
   "cell_type": "code",
   "execution_count": 207,
   "id": "b6428a2a-a10f-40ca-b699-3b88a45f7d56",
   "metadata": {},
   "outputs": [],
   "source": [
    "# Hello Github"
   ]
  },
  {
   "cell_type": "code",
   "execution_count": 203,
   "id": "21474ed6-609a-4835-8106-04ee6b8d7888",
   "metadata": {},
   "outputs": [
    {
     "name": "stdout",
     "output_type": "stream",
     "text": [
      "/home/cephuez/sensitive_data\n"
     ]
    },
    {
     "data": {
      "text/plain": [
       "True"
      ]
     },
     "execution_count": 203,
     "metadata": {},
     "output_type": "execute_result"
    }
   ],
   "source": [
    "# Load my .env files for API keys\n",
    "\n",
    "# Get Current Directory\n",
    "current_directory = os.getcwd()\n",
    "\n",
    "# Load my scripts for API keys\n",
    "base_dir = os.path.abspath(os.path.join(current_directory, \"../../sensitive_data\"))\n",
    "print(base_dir)\n",
    "\n",
    "weather_env_path = os.path.join(base_dir, \"weather_api.env\")\n",
    "aws_env_path = os.path.join(base_dir, \"aws_info.env\")\n",
    "google_env_path = os.path.join(base_dir, \"google_info.env\")\n",
    "azure_env_path = os.path.join(base_dir, \"azure_info.env\")\n",
    "\n",
    "load_dotenv(dotenv_path=weather_env_path)\n",
    "load_dotenv(dotenv_path=aws_env_path)\n",
    "load_dotenv(dotenv_path=google_env_path)\n",
    "load_dotenv(dotenv_path=azure_env_path)"
   ]
  },
  {
   "cell_type": "code",
   "execution_count": 161,
   "id": "8d418cc9-e578-4e4d-bb82-c3d61c35c1f4",
   "metadata": {},
   "outputs": [],
   "source": [
    "spark = SparkSession.builder.appName(\"Weather_Session\").getOrCreate()"
   ]
  },
  {
   "cell_type": "code",
   "execution_count": 164,
   "id": "33837c3f-1430-4335-bb29-9abeb200f566",
   "metadata": {},
   "outputs": [],
   "source": [
    "timestamp = datetime.now().strftime(\"%Y-%B-%d_%H-%M\")\n",
    "weather_data = Import_Weather_Data(timestamp)\n",
    "filename = weather_data.get_filename()"
   ]
  },
  {
   "cell_type": "code",
   "execution_count": 165,
   "id": "4b119194-5358-4565-b8ec-c2ca88ace26b",
   "metadata": {},
   "outputs": [
    {
     "name": "stdout",
     "output_type": "stream",
     "text": [
      "Hi\n"
     ]
    }
   ],
   "source": [
    "setup_weather_data = Setup_Weather_Data(spark, filename, timestamp)\n",
    "df = setup_weather_data.get_data_frame()"
   ]
  },
  {
   "cell_type": "code",
   "execution_count": 166,
   "id": "ea1b9895-094a-4e9f-a45d-bc036d3ad61b",
   "metadata": {},
   "outputs": [
    {
     "name": "stderr",
     "output_type": "stream",
     "text": [
      "2025-05-27 17:15:30,653 - INFO - Output folder: weather_results/50_City_Results_2025-May-27_17-15\n"
     ]
    }
   ],
   "source": [
    "weather_result_filename = setup_weather_data.get_weather_result_filename()\n",
    "logger.info(f\"Output folder: {weather_result_filename}\")\n",
    "#print(weather_result_filename)"
   ]
  },
  {
   "cell_type": "code",
   "execution_count": 167,
   "id": "9a33e99c-1d57-4c50-9665-490f7f33afac",
   "metadata": {},
   "outputs": [],
   "source": [
    "#df.show()"
   ]
  },
  {
   "cell_type": "code",
   "execution_count": 168,
   "id": "eccf2c6b-0d2d-4c82-b979-684aedcdbb47",
   "metadata": {},
   "outputs": [
    {
     "name": "stdout",
     "output_type": "stream",
     "text": [
      "hi\n"
     ]
    }
   ],
   "source": [
    "export_data = Export_Weather_Data(weather_result_filename)"
   ]
  },
  {
   "cell_type": "code",
   "execution_count": 169,
   "id": "0e7bfd86-9451-4da5-9823-327fff11bea4",
   "metadata": {},
   "outputs": [],
   "source": [
    "# Create location DF\n",
    "location_df = df.select(\n",
    "    df[\"id\"].alias(\"ID\"),\n",
    "    df[\"name\"].alias(\"City\"),\n",
    "    df[\"sys.country\"].alias(\"Country\"),\n",
    "    df[\"coord.lat\"].alias(\"Latitude\"),\n",
    "    df[\"coord.lon\"].alias(\"Longitude\")\n",
    ").orderBy(\"ID\")"
   ]
  },
  {
   "cell_type": "code",
   "execution_count": 170,
   "id": "87fa2434-b849-43f9-ad88-e41290ad52f4",
   "metadata": {},
   "outputs": [],
   "source": [
    "# Create Temperature & Pressure Table\n",
    "temperature_df = df.select(\n",
    "    df[\"id\"].alias(\"City_ID\"),\n",
    "    df[\"main.temp\"].alias(\"Temp\"),\n",
    "    df[\"main.temp_max\"].alias(\"Temp_Max\"),\n",
    "    df[\"main.temp_min\"].alias(\"Temp_Min\"),\n",
    "    df[\"main.feels_like\"].alias(\"Feels_Like\"),\n",
    "    df[\"main.humidity\"].alias(\"Humidity\"),\n",
    "    df[\"main.pressure\"].alias(\"Pressure\"),\n",
    "    df[\"main.sea_level\"].alias(\"Sea_Level\")\n",
    ").orderBy(\"City_ID\")"
   ]
  },
  {
   "cell_type": "code",
   "execution_count": 171,
   "id": "40202329-fcbb-45fd-bef2-94fcf6ebb4c5",
   "metadata": {},
   "outputs": [],
   "source": [
    "# Create Wind & Clouds Table\n",
    "wind_df = df.select(\n",
    "    df[\"id\"].alias(\"City_ID\"),\n",
    "    df[\"clouds.all\"].alias(\"Cloudiness_Percentage\"),\n",
    "    df[\"wind.deg\"].alias(\"Wind_Direction_Degree\"),\n",
    "    df[\"wind.gust\"].alias(\"Gust_Speed\"),\n",
    "    df[\"wind.speed\"].alias(\"Wind_Speed\")\n",
    ").orderBy(\"City_ID\")"
   ]
  },
  {
   "cell_type": "code",
   "execution_count": 172,
   "id": "83097b91-ca05-4c19-a1c6-d20c2a0c2836",
   "metadata": {},
   "outputs": [],
   "source": [
    "# Create Weather Description\n",
    "weather_desc_df = df.select(\n",
    "    df[\"id\"].alias(\"City_ID\"),\n",
    "    df[\"weather\"][0][\"main\"].alias(\"Main_Weather\"),\n",
    "    df[\"weather\"][0][\"description\"].alias(\"Description\"),\n",
    "    df[\"weather\"][0][\"icon\"].alias(\"Icon\")\n",
    ").orderBy(\"City_ID\")"
   ]
  },
  {
   "cell_type": "code",
   "execution_count": 173,
   "id": "92a024cb-3e12-4ea9-9804-211a87b6928c",
   "metadata": {},
   "outputs": [],
   "source": [
    "# Sunrise_Sunset_Table\n",
    "sunrise_sunset_df = df.select(\n",
    "    df[\"id\"].alias(\"City_ID\"),\n",
    "    df[\"sys.sunrise\"].alias(\"Sunrise\"),\n",
    "    df[\"sys.sunset\"].alias(\"Sunset\"),\n",
    "    df[\"timezone\"].alias(\"Timezone\")\n",
    ").orderBy(\"City_ID\")"
   ]
  },
  {
   "cell_type": "code",
   "execution_count": 174,
   "id": "4c3fbddc-68fb-4a5d-bb9d-a9189392f6a9",
   "metadata": {},
   "outputs": [
    {
     "name": "stderr",
     "output_type": "stream",
     "text": [
      "25/05/27 17:15:31 WARN WindowExec: No Partition Defined for Window operation! Moving all data to a single partition, this can cause serious performance degradation.\n",
      "25/05/27 17:15:31 WARN WindowExec: No Partition Defined for Window operation! Moving all data to a single partition, this can cause serious performance degradation.\n",
      "25/05/27 17:15:31 WARN WindowExec: No Partition Defined for Window operation! Moving all data to a single partition, this can cause serious performance degradation.\n",
      "25/05/27 17:15:31 WARN WindowExec: No Partition Defined for Window operation! Moving all data to a single partition, this can cause serious performance degradation.\n",
      "25/05/27 17:15:31 WARN WindowExec: No Partition Defined for Window operation! Moving all data to a single partition, this can cause serious performance degradation.\n"
     ]
    },
    {
     "name": "stdout",
     "output_type": "stream",
     "text": [
      "+-------+----------+-------+--------+--------+--------------+--------+----+\n",
      "|     ID|      CITY|COUNTRY| SUNRISE|  SUNSET|DAYLIGHT_HOURS|TIMEZONE|RANK|\n",
      "+-------+----------+-------+--------+--------+--------------+--------+----+\n",
      "|3413829| Reykjavik|     IS|21:35:47|17:14:04|         19.64|       0|   1|\n",
      "| 658225|  Helsinki|     FI|22:14:19|16:21:06|         18.11|   10800|   2|\n",
      "|3143244|      Oslo|     NO|22:13:24|16:15:33|         18.04|    7200|   3|\n",
      "|2673730| Stockholm|     SE|21:49:21|15:41:03|         17.86|    7200|   4|\n",
      "| 524901|    Moscow|     RU|21:57:56|14:56:02|         16.97|   10800|   5|\n",
      "|2618425|Copenhagen|     DK|22:38:33|15:35:51|         16.96|    7200|   6|\n",
      "|2964574|    Dublin|     IE|23:07:38|15:37:26|          16.5|    3600|   7|\n",
      "|2950159|    Berlin|     DE|22:53:22|15:14:16|         16.35|    7200|   8|\n",
      "|2759794| Amsterdam|     NL|23:28:12|15:47:36|         16.32|    7200|   9|\n",
      "| 756135|    Warsaw|     PL|22:24:30|14:42:19|          16.3|    7200|  10|\n",
      "+-------+----------+-------+--------+--------+--------------+--------+----+\n",
      "\n"
     ]
    },
    {
     "name": "stderr",
     "output_type": "stream",
     "text": [
      "25/05/27 17:15:31 WARN WindowExec: No Partition Defined for Window operation! Moving all data to a single partition, this can cause serious performance degradation.\n",
      "25/05/27 17:15:31 WARN WindowExec: No Partition Defined for Window operation! Moving all data to a single partition, this can cause serious performance degradation.\n",
      "25/05/27 17:15:31 WARN WindowExec: No Partition Defined for Window operation! Moving all data to a single partition, this can cause serious performance degradation.\n",
      "25/05/27 17:15:31 WARN WindowExec: No Partition Defined for Window operation! Moving all data to a single partition, this can cause serious performance degradation.\n",
      "25/05/27 17:15:31 WARN WindowExec: No Partition Defined for Window operation! Moving all data to a single partition, this can cause serious performance degradation.\n",
      "25/05/27 17:15:31 WARN WindowExec: No Partition Defined for Window operation! Moving all data to a single partition, this can cause serious performance degradation.\n",
      "25/05/27 17:15:31 WARN WindowExec: No Partition Defined for Window operation! Moving all data to a single partition, this can cause serious performance degradation.\n",
      "25/05/27 17:15:31 WARN WindowExec: No Partition Defined for Window operation! Moving all data to a single partition, this can cause serious performance degradation.\n",
      "25/05/27 17:15:31 WARN WindowExec: No Partition Defined for Window operation! Moving all data to a single partition, this can cause serious performance degradation.\n"
     ]
    }
   ],
   "source": [
    "# Which cities have the longest daylight duration?\n",
    "# Convert the time into readable time. Order by daylight hour\n",
    "top_10_cities = sunrise_sunset_df.select(\n",
    "    col(\"City_ID\"), \n",
    "    date_format(from_unixtime(col(\"Sunrise\") + col(\"Timezone\")),\"HH:mm:ss\").alias(\"Sunrise\"),\n",
    "    date_format(from_unixtime(col(\"Sunset\") + col(\"Timezone\")),\"HH:mm:ss\").alias(\"Sunset\"), \n",
    "    round(((col(\"Sunset\") - col(\"Sunrise\")) / 3600),2).alias(\"Daylight_Hours\"),\n",
    "    col(\"Timezone\")).orderBy(col(\"Daylight_Hours\").desc()).limit(10)\n",
    "\n",
    "final_table = top_10_cities.join(location_df, top_10_cities[\"City_ID\"] == location_df[\"ID\"]\n",
    "                ).select(location_df[\"ID\"], \n",
    "                         location_df[\"City\"], \n",
    "                         location_df[\"Country\"], \n",
    "                         top_10_cities[\"Sunrise\"], \n",
    "                         top_10_cities[\"Sunset\"], \n",
    "                         top_10_cities[\"Daylight_Hours\"], \n",
    "                         top_10_cities[\"Timezone\"]\n",
    "                ).orderBy(col(\"Daylight_Hours\").desc())\n",
    "#final_table.show()\n",
    "\n",
    "final_table.createOrReplaceTempView(\"Final_Table\")\n",
    "\n",
    "query = '''\n",
    "        SELECT ID, CITY, COUNTRY, SUNRISE, SUNSET, DAYLIGHT_HOURS, TIMEZONE, RANK()OVER(ORDER BY DAYLIGHT_HOURS DESC) RANK\n",
    "        FROM FINAL_TABLE\n",
    "    '''\n",
    "result = spark.sql(query)\n",
    "result.show()\n",
    "\n",
    "\n",
    "data = result.toPandas()\n",
    "\n",
    "export_data.to_parquet(data, 'Longest_Daytime.parquet')\n",
    "export_data.to_csv(data, 'Longest_Daytime.csv')\n",
    "export_data.to_json(data, 'Longest_Daytime.json')\n",
    "\n",
    "#path = os.path.join(weather_result_filename, 'Longest_Daytime.parquet')\n",
    "#data.to_parquet(path, engine='pyarrow') \n",
    "#path = os.path.join(weather_result_filename, 'Longest_Daytime.csv')\n",
    "#data.to_csv(path, index=False)\n",
    "#path = os.path.join(weather_result_filename, 'Longest_Daytime.json')\n",
    "#data.to_json(path, orient='records', lines=True)"
   ]
  },
  {
   "cell_type": "code",
   "execution_count": 175,
   "id": "d643a07f-1d79-4f07-939f-55b88803d338",
   "metadata": {},
   "outputs": [
    {
     "name": "stderr",
     "output_type": "stream",
     "text": [
      "25/05/27 17:15:32 WARN WindowExec: No Partition Defined for Window operation! Moving all data to a single partition, this can cause serious performance degradation.\n",
      "25/05/27 17:15:32 WARN WindowExec: No Partition Defined for Window operation! Moving all data to a single partition, this can cause serious performance degradation.\n",
      "25/05/27 17:15:32 WARN WindowExec: No Partition Defined for Window operation! Moving all data to a single partition, this can cause serious performance degradation.\n",
      "25/05/27 17:15:32 WARN WindowExec: No Partition Defined for Window operation! Moving all data to a single partition, this can cause serious performance degradation.\n",
      "25/05/27 17:15:32 WARN WindowExec: No Partition Defined for Window operation! Moving all data to a single partition, this can cause serious performance degradation.\n"
     ]
    },
    {
     "name": "stdout",
     "output_type": "stream",
     "text": [
      "+-------+------------+-------+-----+----------+----------+----+\n",
      "|CITY_ID|        CITY|COUNTRY| TEMP|FEELS_LIKE|DIFFERENCE|RANK|\n",
      "+-------+------------+-------+-----+----------+----------+----+\n",
      "|1701668|      Manila|     PH|28.37|     33.77|       5.4|   1|\n",
      "|2332459|       Lagos|     NG|28.14|     32.62|      4.48|   2|\n",
      "|1735161|Kuala Lumpur|     MY|27.57|     31.85|      4.28|   3|\n",
      "|1609350|     Bangkok|     TH|26.94|     30.98|      4.04|   4|\n",
      "|1880252|   Singapore|     SG|26.85|     29.16|      2.31|   5|\n",
      "| 658225|    Helsinki|     FI| 9.73|      7.66|      2.07|   6|\n",
      "| 108410|      Riyadh|     SA|31.02|     28.96|      2.06|   7|\n",
      "|3143244|        Oslo|     NO| 6.98|      5.25|      1.73|   8|\n",
      "| 292223|       Dubai|     AE|29.96|     31.65|      1.69|   9|\n",
      "|  98182|     Baghdad|     IQ|28.95|     27.45|       1.5|  10|\n",
      "+-------+------------+-------+-----+----------+----------+----+\n",
      "\n"
     ]
    },
    {
     "name": "stderr",
     "output_type": "stream",
     "text": [
      "25/05/27 17:15:32 WARN WindowExec: No Partition Defined for Window operation! Moving all data to a single partition, this can cause serious performance degradation.\n",
      "25/05/27 17:15:32 WARN WindowExec: No Partition Defined for Window operation! Moving all data to a single partition, this can cause serious performance degradation.\n",
      "25/05/27 17:15:32 WARN WindowExec: No Partition Defined for Window operation! Moving all data to a single partition, this can cause serious performance degradation.\n",
      "25/05/27 17:15:32 WARN WindowExec: No Partition Defined for Window operation! Moving all data to a single partition, this can cause serious performance degradation.\n",
      "25/05/27 17:15:32 WARN WindowExec: No Partition Defined for Window operation! Moving all data to a single partition, this can cause serious performance degradation.\n",
      "25/05/27 17:15:32 WARN WindowExec: No Partition Defined for Window operation! Moving all data to a single partition, this can cause serious performance degradation.\n",
      "25/05/27 17:15:32 WARN WindowExec: No Partition Defined for Window operation! Moving all data to a single partition, this can cause serious performance degradation.\n",
      "25/05/27 17:15:32 WARN WindowExec: No Partition Defined for Window operation! Moving all data to a single partition, this can cause serious performance degradation.\n",
      "25/05/27 17:15:32 WARN WindowExec: No Partition Defined for Window operation! Moving all data to a single partition, this can cause serious performance degradation.\n"
     ]
    }
   ],
   "source": [
    "# Which city has the highest difference between actual temperature and feels-like temperature?\n",
    "# temperature_df\n",
    "top_10_cities = temperature_df.select(\n",
    "    col(\"City_ID\"), \n",
    "    col(\"Temp\"), \n",
    "    col(\"Feels_Like\"), \n",
    "    round(abs(col(\"Temp\") - col(\"Feels_Like\")),2).alias(\"Difference\")\n",
    "        ).orderBy(col(\"Difference\").desc()).limit(10)\n",
    "#top_10_cities.show()\n",
    "\n",
    "final_top_10_cities_temperature = top_10_cities.join(location_df, top_10_cities[\"City_ID\"] == location_df[\"ID\"]).select(\n",
    "    top_10_cities[\"City_ID\"], \n",
    "    location_df[\"City\"], \n",
    "    location_df[\"Country\"], \n",
    "    top_10_cities[\"Temp\"], \n",
    "    top_10_cities[\"Feels_Like\"], \n",
    "    top_10_cities[\"Difference\"]\n",
    "        ).orderBy(col(\"Difference\").desc())\n",
    "#final_top_10_cities_temperature.show()\n",
    "\n",
    "final_top_10_cities_temperature.createOrReplaceTempView(\"Final_Table\")\n",
    "\n",
    "query = '''\n",
    "        SELECT CITY_ID, CITY, COUNTRY, TEMP, FEELS_LIKE, DIFFERENCE, RANK()OVER(ORDER BY DIFFERENCE DESC) RANK\n",
    "        FROM FINAL_TABLE\n",
    "    '''\n",
    "\n",
    "final_result = spark.sql(query)\n",
    "final_result.show()\n",
    "\n",
    "data = final_result.toPandas()\n",
    "\n",
    "export_data.to_parquet(data, 'Temperature_Feel_Like_Temperature_Diff.parquet')\n",
    "export_data.to_csv(data, 'Temperature_Feel_Like_Temperature_Diff.csv')\n",
    "export_data.to_json(data, 'Temperature_Feel_Like_Temperature_Diff.json')"
   ]
  },
  {
   "cell_type": "code",
   "execution_count": 176,
   "id": "658aa716-7879-40d9-a1a6-59a417f3468a",
   "metadata": {},
   "outputs": [
    {
     "name": "stdout",
     "output_type": "stream",
     "text": [
      "Hello\n"
     ]
    }
   ],
   "source": [
    "weather_uploader = UploadWeatherData(weather_result_filename)"
   ]
  },
  {
   "cell_type": "code",
   "execution_count": 179,
   "id": "5c864a72-686f-4135-a171-7e26c90c794f",
   "metadata": {},
   "outputs": [
    {
     "name": "stdout",
     "output_type": "stream",
     "text": [
      "us-west-1\n",
      "project-cloud-saul2-00000002-data-cleaning\n",
      "File: weather_results/50_City_Results_2025-May-27_17-15/Temperature_Feel_Like_Temperature_Diff.parquet uploaded\n",
      "File: weather_results/50_City_Results_2025-May-27_17-15/Longest_Daytime.csv uploaded\n",
      "File: weather_results/50_City_Results_2025-May-27_17-15/Longest_Daytime.parquet uploaded\n",
      "File: weather_results/50_City_Results_2025-May-27_17-15/Longest_Daytime.json uploaded\n",
      "File: weather_results/50_City_Results_2025-May-27_17-15/Temperature_Feel_Like_Temperature_Diff.json uploaded\n",
      "File: weather_results/50_City_Results_2025-May-27_17-15/Temperature_Feel_Like_Temperature_Diff.csv uploaded\n"
     ]
    }
   ],
   "source": [
    "# Upload to AWS\n",
    "weather_uploader.upload_to_AWS()"
   ]
  },
  {
   "cell_type": "code",
   "execution_count": 201,
   "id": "9424fd81-54a9-4680-bc82-66672d7024f7",
   "metadata": {},
   "outputs": [],
   "source": [
    "weather_uploader.upload_to_Google()"
   ]
  },
  {
   "cell_type": "code",
   "execution_count": 206,
   "id": "c4dca448-1326-465e-933c-1bb8ffd097af",
   "metadata": {},
   "outputs": [
    {
     "name": "stderr",
     "output_type": "stream",
     "text": [
      "2025-05-27 18:02:12,083 - INFO - Request URL: 'https://sspcloudstorage00001.blob.core.windows.net/sspbucket/weather_results/50_City_Results_2025-May-27_17-15/Temperature_Feel_Like_Temperature_Diff.parquet'\n",
      "Request method: 'PUT'\n",
      "Request headers:\n",
      "    'Content-Length': '5272'\n",
      "    'x-ms-blob-type': 'REDACTED'\n",
      "    'x-ms-version': 'REDACTED'\n",
      "    'Content-Type': 'application/octet-stream'\n",
      "    'Accept': 'application/xml'\n",
      "    'User-Agent': 'azsdk-python-storage-blob/12.25.1 Python/3.10.17 (Linux-5.15.167.4-microsoft-standard-WSL2-x86_64-with-glibc2.39)'\n",
      "    'x-ms-date': 'REDACTED'\n",
      "    'x-ms-client-request-id': '017092b8-3b57-11f0-bba4-00155d09dafc'\n",
      "    'Authorization': 'REDACTED'\n",
      "A body is sent with the request\n"
     ]
    },
    {
     "name": "stdout",
     "output_type": "stream",
     "text": [
      "Azure\n",
      "loop\n"
     ]
    },
    {
     "name": "stderr",
     "output_type": "stream",
     "text": [
      "2025-05-27 18:02:12,421 - INFO - Response status: 201\n",
      "Response headers:\n",
      "    'Content-Length': '0'\n",
      "    'Content-MD5': 'REDACTED'\n",
      "    'Last-Modified': 'Wed, 28 May 2025 00:02:12 GMT'\n",
      "    'ETag': '\"0x8DD9D7AE5BEDDB6\"'\n",
      "    'Server': 'Windows-Azure-Blob/1.0 Microsoft-HTTPAPI/2.0'\n",
      "    'x-ms-request-id': '8adf9cd2-301e-004e-7c63-cf8735000000'\n",
      "    'x-ms-client-request-id': '017092b8-3b57-11f0-bba4-00155d09dafc'\n",
      "    'x-ms-version': 'REDACTED'\n",
      "    'x-ms-content-crc64': 'REDACTED'\n",
      "    'x-ms-request-server-encrypted': 'REDACTED'\n",
      "    'Date': 'Wed, 28 May 2025 00:02:11 GMT'\n",
      "2025-05-27 18:02:12,423 - INFO - Request URL: 'https://sspcloudstorage00001.blob.core.windows.net/sspbucket/weather_results/50_City_Results_2025-May-27_17-15/Longest_Daytime.csv'\n",
      "Request method: 'PUT'\n",
      "Request headers:\n",
      "    'Content-Length': '5796'\n",
      "    'x-ms-blob-type': 'REDACTED'\n",
      "    'x-ms-version': 'REDACTED'\n",
      "    'Content-Type': 'application/octet-stream'\n",
      "    'Accept': 'application/xml'\n",
      "    'User-Agent': 'azsdk-python-storage-blob/12.25.1 Python/3.10.17 (Linux-5.15.167.4-microsoft-standard-WSL2-x86_64-with-glibc2.39)'\n",
      "    'x-ms-date': 'REDACTED'\n",
      "    'x-ms-client-request-id': '017092b9-3b57-11f0-bba4-00155d09dafc'\n",
      "    'Authorization': 'REDACTED'\n",
      "A body is sent with the request\n",
      "2025-05-27 18:02:12,489 - INFO - Response status: 201\n",
      "Response headers:\n",
      "    'Content-Length': '0'\n",
      "    'Content-MD5': 'REDACTED'\n",
      "    'Last-Modified': 'Wed, 28 May 2025 00:02:12 GMT'\n",
      "    'ETag': '\"0x8DD9D7AE5C93244\"'\n",
      "    'Server': 'Windows-Azure-Blob/1.0 Microsoft-HTTPAPI/2.0'\n",
      "    'x-ms-request-id': '8adf9d2d-301e-004e-4f63-cf8735000000'\n",
      "    'x-ms-client-request-id': '017092b9-3b57-11f0-bba4-00155d09dafc'\n",
      "    'x-ms-version': 'REDACTED'\n",
      "    'x-ms-content-crc64': 'REDACTED'\n",
      "    'x-ms-request-server-encrypted': 'REDACTED'\n",
      "    'Date': 'Wed, 28 May 2025 00:02:11 GMT'\n",
      "2025-05-27 18:02:12,491 - INFO - Request URL: 'https://sspcloudstorage00001.blob.core.windows.net/sspbucket/weather_results/50_City_Results_2025-May-27_17-15/Longest_Daytime.parquet'\n",
      "Request method: 'PUT'\n",
      "Request headers:\n",
      "    'Content-Length': '5796'\n",
      "    'x-ms-blob-type': 'REDACTED'\n",
      "    'x-ms-version': 'REDACTED'\n",
      "    'Content-Type': 'application/octet-stream'\n",
      "    'Accept': 'application/xml'\n",
      "    'User-Agent': 'azsdk-python-storage-blob/12.25.1 Python/3.10.17 (Linux-5.15.167.4-microsoft-standard-WSL2-x86_64-with-glibc2.39)'\n",
      "    'x-ms-date': 'REDACTED'\n",
      "    'x-ms-client-request-id': '017092ba-3b57-11f0-bba4-00155d09dafc'\n",
      "    'Authorization': 'REDACTED'\n",
      "A body is sent with the request\n",
      "2025-05-27 18:02:12,555 - INFO - Response status: 201\n",
      "Response headers:\n",
      "    'Content-Length': '0'\n",
      "    'Content-MD5': 'REDACTED'\n",
      "    'Last-Modified': 'Wed, 28 May 2025 00:02:12 GMT'\n",
      "    'ETag': '\"0x8DD9D7AE5D33926\"'\n",
      "    'Server': 'Windows-Azure-Blob/1.0 Microsoft-HTTPAPI/2.0'\n",
      "    'x-ms-request-id': '8adf9d6f-301e-004e-0d63-cf8735000000'\n",
      "    'x-ms-client-request-id': '017092ba-3b57-11f0-bba4-00155d09dafc'\n",
      "    'x-ms-version': 'REDACTED'\n",
      "    'x-ms-content-crc64': 'REDACTED'\n",
      "    'x-ms-request-server-encrypted': 'REDACTED'\n",
      "    'Date': 'Wed, 28 May 2025 00:02:11 GMT'\n",
      "2025-05-27 18:02:12,557 - INFO - Request URL: 'https://sspcloudstorage00001.blob.core.windows.net/sspbucket/weather_results/50_City_Results_2025-May-27_17-15/Longest_Daytime.json'\n",
      "Request method: 'PUT'\n",
      "Request headers:\n",
      "    'Content-Length': '5796'\n",
      "    'x-ms-blob-type': 'REDACTED'\n",
      "    'x-ms-version': 'REDACTED'\n",
      "    'Content-Type': 'application/octet-stream'\n",
      "    'Accept': 'application/xml'\n",
      "    'User-Agent': 'azsdk-python-storage-blob/12.25.1 Python/3.10.17 (Linux-5.15.167.4-microsoft-standard-WSL2-x86_64-with-glibc2.39)'\n",
      "    'x-ms-date': 'REDACTED'\n",
      "    'x-ms-client-request-id': '017092bb-3b57-11f0-bba4-00155d09dafc'\n",
      "    'Authorization': 'REDACTED'\n",
      "A body is sent with the request\n"
     ]
    },
    {
     "name": "stdout",
     "output_type": "stream",
     "text": [
      "File: weather_results/50_City_Results_2025-May-27_17-15/Temperature_Feel_Like_Temperature_Diff.parquet uploaded\n",
      "loop\n",
      "File: weather_results/50_City_Results_2025-May-27_17-15/Longest_Daytime.csv uploaded\n",
      "loop\n",
      "File: weather_results/50_City_Results_2025-May-27_17-15/Longest_Daytime.parquet uploaded\n",
      "loop\n"
     ]
    },
    {
     "name": "stderr",
     "output_type": "stream",
     "text": [
      "2025-05-27 18:02:12,627 - INFO - Response status: 201\n",
      "Response headers:\n",
      "    'Content-Length': '0'\n",
      "    'Content-MD5': 'REDACTED'\n",
      "    'Last-Modified': 'Wed, 28 May 2025 00:02:12 GMT'\n",
      "    'ETag': '\"0x8DD9D7AE5DE0280\"'\n",
      "    'Server': 'Windows-Azure-Blob/1.0 Microsoft-HTTPAPI/2.0'\n",
      "    'x-ms-request-id': '8adf9db9-301e-004e-4d63-cf8735000000'\n",
      "    'x-ms-client-request-id': '017092bb-3b57-11f0-bba4-00155d09dafc'\n",
      "    'x-ms-version': 'REDACTED'\n",
      "    'x-ms-content-crc64': 'REDACTED'\n",
      "    'x-ms-request-server-encrypted': 'REDACTED'\n",
      "    'Date': 'Wed, 28 May 2025 00:02:11 GMT'\n",
      "2025-05-27 18:02:12,628 - INFO - Request URL: 'https://sspcloudstorage00001.blob.core.windows.net/sspbucket/weather_results/50_City_Results_2025-May-27_17-15/Temperature_Feel_Like_Temperature_Diff.json'\n",
      "Request method: 'PUT'\n",
      "Request headers:\n",
      "    'Content-Length': '5272'\n",
      "    'x-ms-blob-type': 'REDACTED'\n",
      "    'x-ms-version': 'REDACTED'\n",
      "    'Content-Type': 'application/octet-stream'\n",
      "    'Accept': 'application/xml'\n",
      "    'User-Agent': 'azsdk-python-storage-blob/12.25.1 Python/3.10.17 (Linux-5.15.167.4-microsoft-standard-WSL2-x86_64-with-glibc2.39)'\n",
      "    'x-ms-date': 'REDACTED'\n",
      "    'x-ms-client-request-id': '017092bc-3b57-11f0-bba4-00155d09dafc'\n",
      "    'Authorization': 'REDACTED'\n",
      "A body is sent with the request\n",
      "2025-05-27 18:02:12,694 - INFO - Response status: 201\n",
      "Response headers:\n",
      "    'Content-Length': '0'\n",
      "    'Content-MD5': 'REDACTED'\n",
      "    'Last-Modified': 'Wed, 28 May 2025 00:02:12 GMT'\n",
      "    'ETag': '\"0x8DD9D7AE5E83041\"'\n",
      "    'Server': 'Windows-Azure-Blob/1.0 Microsoft-HTTPAPI/2.0'\n",
      "    'x-ms-request-id': '8adf9e07-301e-004e-1363-cf8735000000'\n",
      "    'x-ms-client-request-id': '017092bc-3b57-11f0-bba4-00155d09dafc'\n",
      "    'x-ms-version': 'REDACTED'\n",
      "    'x-ms-content-crc64': 'REDACTED'\n",
      "    'x-ms-request-server-encrypted': 'REDACTED'\n",
      "    'Date': 'Wed, 28 May 2025 00:02:11 GMT'\n",
      "2025-05-27 18:02:12,696 - INFO - Request URL: 'https://sspcloudstorage00001.blob.core.windows.net/sspbucket/weather_results/50_City_Results_2025-May-27_17-15/Temperature_Feel_Like_Temperature_Diff.csv'\n",
      "Request method: 'PUT'\n",
      "Request headers:\n",
      "    'Content-Length': '5272'\n",
      "    'x-ms-blob-type': 'REDACTED'\n",
      "    'x-ms-version': 'REDACTED'\n",
      "    'Content-Type': 'application/octet-stream'\n",
      "    'Accept': 'application/xml'\n",
      "    'User-Agent': 'azsdk-python-storage-blob/12.25.1 Python/3.10.17 (Linux-5.15.167.4-microsoft-standard-WSL2-x86_64-with-glibc2.39)'\n",
      "    'x-ms-date': 'REDACTED'\n",
      "    'x-ms-client-request-id': '017092bd-3b57-11f0-bba4-00155d09dafc'\n",
      "    'Authorization': 'REDACTED'\n",
      "A body is sent with the request\n",
      "2025-05-27 18:02:12,766 - INFO - Response status: 201\n",
      "Response headers:\n",
      "    'Content-Length': '0'\n",
      "    'Content-MD5': 'REDACTED'\n",
      "    'Last-Modified': 'Wed, 28 May 2025 00:02:12 GMT'\n",
      "    'ETag': '\"0x8DD9D7AE5F284E6\"'\n",
      "    'Server': 'Windows-Azure-Blob/1.0 Microsoft-HTTPAPI/2.0'\n",
      "    'x-ms-request-id': '8adf9e47-301e-004e-4a63-cf8735000000'\n",
      "    'x-ms-client-request-id': '017092bd-3b57-11f0-bba4-00155d09dafc'\n",
      "    'x-ms-version': 'REDACTED'\n",
      "    'x-ms-content-crc64': 'REDACTED'\n",
      "    'x-ms-request-server-encrypted': 'REDACTED'\n",
      "    'Date': 'Wed, 28 May 2025 00:02:12 GMT'\n"
     ]
    },
    {
     "name": "stdout",
     "output_type": "stream",
     "text": [
      "File: weather_results/50_City_Results_2025-May-27_17-15/Longest_Daytime.json uploaded\n",
      "loop\n",
      "File: weather_results/50_City_Results_2025-May-27_17-15/Temperature_Feel_Like_Temperature_Diff.json uploaded\n",
      "loop\n",
      "File: weather_results/50_City_Results_2025-May-27_17-15/Temperature_Feel_Like_Temperature_Diff.csv uploaded\n"
     ]
    }
   ],
   "source": [
    "weather_uploader.upload_to_Azure()"
   ]
  },
  {
   "cell_type": "code",
   "execution_count": null,
   "id": "e41e469f-9628-469e-921c-4e28be5a5170",
   "metadata": {},
   "outputs": [],
   "source": []
  },
  {
   "cell_type": "code",
   "execution_count": null,
   "id": "df822081-c488-4a29-a676-dee900295a50",
   "metadata": {},
   "outputs": [],
   "source": []
  }
 ],
 "metadata": {
  "kernelspec": {
   "display_name": "Python 3 (ipykernel)",
   "language": "python",
   "name": "python3"
  },
  "language_info": {
   "codemirror_mode": {
    "name": "ipython",
    "version": 3
   },
   "file_extension": ".py",
   "mimetype": "text/x-python",
   "name": "python",
   "nbconvert_exporter": "python",
   "pygments_lexer": "ipython3",
   "version": "3.10.17"
  }
 },
 "nbformat": 4,
 "nbformat_minor": 5
}
