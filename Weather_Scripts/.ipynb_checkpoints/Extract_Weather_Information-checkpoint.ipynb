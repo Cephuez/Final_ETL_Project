{
 "cells": [
  {
   "cell_type": "code",
   "execution_count": 44,
   "id": "7e83adea-d18c-4c6c-bfc6-5bf4bc93b44c",
   "metadata": {},
   "outputs": [
    {
     "name": "stdout",
     "output_type": "stream",
     "text": [
      "The autoreload extension is already loaded. To reload it, use:\n",
      "  %reload_ext autoreload\n"
     ]
    }
   ],
   "source": [
    "%load_ext autoreload\n",
    "%autoreload 2\n",
    "import boto3\n",
    "import requests\n",
    "import urllib.request\n",
    "import httpx\n",
    "import os\n",
    "import pandas as pd\n",
    "import pyspark\n",
    "import json\n",
    "import pyarrow\n",
    "\n",
    "from GetWeather import Import_Weather_Data\n",
    "from SetupWeatherData import Setup_Weather_Data\n",
    "from Upload_Weather_Data import UploadWeatherData\n",
    "\n",
    "from pyspark.sql import SparkSession\n",
    "from pyspark.sql.utils import AnalysisException\n",
    "from pyspark.sql import Row\n",
    "from pyspark.sql.window import Window\n",
    "from py4j.protocol import Py4JJavaError\n",
    "from datetime import datetime, timedelta\n",
    "from pyspark.sql.functions import *\n",
    "from pyspark.sql.types import IntegerType, BooleanType"
   ]
  },
  {
   "cell_type": "code",
   "execution_count": 92,
   "id": "8d418cc9-e578-4e4d-bb82-c3d61c35c1f4",
   "metadata": {},
   "outputs": [],
   "source": [
    "spark = SparkSession.builder.appName(\"Weather_Session\").getOrCreate()"
   ]
  },
  {
   "cell_type": "code",
   "execution_count": 93,
   "id": "33837c3f-1430-4335-bb29-9abeb200f566",
   "metadata": {},
   "outputs": [],
   "source": [
    "timestamp = datetime.now().strftime(\"%Y-%B-%d_%H-%M\")\n",
    "weather_data = Import_Weather_Data(timestamp)\n",
    "filename = weather_data.get_filename()"
   ]
  },
  {
   "cell_type": "code",
   "execution_count": 94,
   "id": "4b119194-5358-4565-b8ec-c2ca88ace26b",
   "metadata": {},
   "outputs": [
    {
     "name": "stdout",
     "output_type": "stream",
     "text": [
      "Hi\n"
     ]
    }
   ],
   "source": [
    "setup_weather_data = Setup_Weather_Data(spark, filename, timestamp)\n",
    "df = setup_weather_data.get_data_frame()"
   ]
  },
  {
   "cell_type": "code",
   "execution_count": 101,
   "id": "ea1b9895-094a-4e9f-a45d-bc036d3ad61b",
   "metadata": {},
   "outputs": [
    {
     "name": "stdout",
     "output_type": "stream",
     "text": [
      "weather_results/50_City_Results_2025-May-26_23-22\n"
     ]
    }
   ],
   "source": [
    "weather_result_filename = setup_weather_data.get_weather_result_filename()\n",
    "print(weather_result_filename)"
   ]
  },
  {
   "cell_type": "code",
   "execution_count": 67,
   "id": "7b95cd0c-24c1-4ccf-9d3a-cdbc100cc560",
   "metadata": {},
   "outputs": [
    {
     "data": {
      "text/plain": [
       "'timestamp = datetime.now().strftime(\"%Y%m%d_%H%M%S\")\\nweather_directory = \"weather_data\"\\nos.makedirs(weather_directory, exist_ok=True)\\n\\nfilename = os.path.join(weather_directory, f\"50_City_{timestamp}.json\")\\nwith open(filename, \"w\") as f:\\n    for city_id in city_ids:\\n        url = f\"http://api.openweathermap.org/data/2.5/weather?id={city_id}&appid={weather_api_key}&units=metric\"\\n        response = requests.get(url)\\n        \\n        #data = response.json()\\n        if response.status_code == 200:\\n            data = response.json()\\n            f.write(json.dumps(data) + \"\\n\")\\n            #print(filename)\\n            #print(f\"{data[\\'name\\']}: {data[\\'main\\'][\\'temp\\']}°C\")\\n        else:\\n            print(f\"❌ Failed for city ID {city_id}: {response.status_code}\")'"
      ]
     },
     "execution_count": 67,
     "metadata": {},
     "output_type": "execute_result"
    }
   ],
   "source": [
    "'''timestamp = datetime.now().strftime(\"%Y%m%d_%H%M%S\")\n",
    "weather_directory = \"weather_data\"\n",
    "os.makedirs(weather_directory, exist_ok=True)\n",
    "\n",
    "filename = os.path.join(weather_directory, f\"50_City_{timestamp}.json\")\n",
    "with open(filename, \"w\") as f:\n",
    "    for city_id in city_ids:\n",
    "        url = f\"http://api.openweathermap.org/data/2.5/weather?id={city_id}&appid={weather_api_key}&units=metric\"\n",
    "        response = requests.get(url)\n",
    "        \n",
    "        #data = response.json()\n",
    "        if response.status_code == 200:\n",
    "            data = response.json()\n",
    "            f.write(json.dumps(data) + \"\\n\")\n",
    "            #print(filename)\n",
    "            #print(f\"{data['name']}: {data['main']['temp']}°C\")\n",
    "        else:\n",
    "            print(f\"❌ Failed for city ID {city_id}: {response.status_code}\")'''"
   ]
  },
  {
   "cell_type": "code",
   "execution_count": 68,
   "id": "9590bd6b-a28d-4eb3-b28e-2c5a8406ef39",
   "metadata": {},
   "outputs": [
    {
     "data": {
      "text/plain": [
       "'filename = weather_data.get_filename()\\ntry:\\n    df = spark.read.json(filename)\\nexcept AnalysisException  as e:\\n    # Path does not exists\\n    print(e)'"
      ]
     },
     "execution_count": 68,
     "metadata": {},
     "output_type": "execute_result"
    }
   ],
   "source": [
    "'''filename = weather_data.get_filename()\n",
    "try:\n",
    "    df = spark.read.json(filename)\n",
    "except AnalysisException  as e:\n",
    "    # Path does not exists\n",
    "    print(e)'''"
   ]
  },
  {
   "cell_type": "code",
   "execution_count": 69,
   "id": "cae39e94-459e-4166-a88c-a233dea1c0c0",
   "metadata": {},
   "outputs": [
    {
     "data": {
      "text/plain": [
       "'# Create Directory to store results\\nweather_result_filename = os.path.join(\\'weather_results\\', f\"50_City_Results_{timestamp}\")\\nif not os.path.exists(weather_result_filename):\\n    os.makedirs(weather_result_filename)\\nprint(weather_result_filename)'"
      ]
     },
     "execution_count": 69,
     "metadata": {},
     "output_type": "execute_result"
    }
   ],
   "source": [
    "'''# Create Directory to store results\n",
    "weather_result_filename = os.path.join('weather_results', f\"50_City_Results_{timestamp}\")\n",
    "if not os.path.exists(weather_result_filename):\n",
    "    os.makedirs(weather_result_filename)\n",
    "print(weather_result_filename)'''"
   ]
  },
  {
   "cell_type": "code",
   "execution_count": 95,
   "id": "9a33e99c-1d57-4c50-9665-490f7f33afac",
   "metadata": {},
   "outputs": [
    {
     "name": "stdout",
     "output_type": "stream",
     "text": [
      "+--------+------+---+--------------------+----------+-------+--------------------+-----------+------+--------------------+--------+----------+--------------------+------------------+\n",
      "|    base|clouds|cod|               coord|        dt|     id|                main|       name|  rain|                 sys|timezone|visibility|             weather|              wind|\n",
      "+--------+------+---+--------------------+----------+-------+--------------------+-----------+------+--------------------+--------+----------+--------------------+------------------+\n",
      "|stations|   {0}|200|  {40.7143, -74.006}|1748323218|5128581|{15.19, 1024, 68,...|   New York|  NULL|{US, 4610, 174833...|  -14400|     10000|[{clear sky, 01n,...| {230, NULL, 2.06}|\n",
      "|stations|  {40}|200|  {51.5085, -0.1257}|1748323332|2643743|{13.43, 1008, 85,...|     London|  NULL|{GB, 2075535, 174...|    3600|     10000|[{scattered cloud...| {250, NULL, 5.66}|\n",
      "|stations|   {0}|200|   {48.8534, 2.3488}|1748323218|2988507|{12.17, 1010, 83,...|      Paris|  NULL|{FR, 2012208, 174...|    7200|     10000|[{clear sky, 01d,...|  {230, NULL, 3.6}|\n",
      "|stations|  {75}|200| {35.6895, 139.6917}|1748323240|1850147|{19.51, 1020, 60,...|      Tokyo|  NULL|{JP, 268395, 1748...|   32400|     10000|[{broken clouds, ...|  {60, NULL, 4.63}|\n",
      "|stations|   {0}|200|{-33.8679, 151.2073}|1748323140|2147714|{16.53, 1001, 44,...|     Sydney|  NULL|{AU, 2018875, 174...|   36000|     10000|[{clear sky, 01d,...|{280, NULL, 12.86}|\n",
      "|stations|   {0}|200|  {52.5244, 13.4105}|1748323061|2950159|{11.58, 1012, 84,...|     Berlin|  NULL|{DE, 2011538, 174...|    7200|     10000|[{clear sky, 01d,...| {196, 4.02, 2.68}|\n",
      "|stations|   {0}|200| {43.7001, -79.4163}|1748323009|6167865|{10.64, 1010, 77,...|    Toronto|  NULL|{CA, 2099289, 174...|  -14400|     10000|[{clear sky, 01n,...|  {320, 0.0, 4.92}|\n",
      "|stations| {100}|200|      {-22.0, -49.0}|1748323348|3448433|{17.3, 961, 64, 1...|  São Paulo|  NULL|{BR, NULL, 174833...|  -10800|     10000|[{overcast clouds...|   {84, 2.4, 2.23}|\n",
      "|stations| {100}|200| {19.4285, -99.1277}|1748322949|3530597|{15.15, 766, 77, ...|Mexico City|{0.23}|{MX, 47729, 17482...|  -21600|     10000|[{light rain, 10n...| {324, 1.79, 1.79}|\n",
      "|stations| {100}|200|  {19.0144, 72.8479}|1748322918|1275339|{31.77, 1004, 78,...|     Mumbai|  NULL|{IN, 9052, 174830...|   19800|      2500|[{mist, 50d, 701,...|    {0, NULL, 0.0}|\n",
      "|stations|  {40}|200|  {30.0626, 31.2497}|1748323092| 360630|{21.65, 1008, 78,...|      Cairo|  NULL|{EG, 2514, 174831...|   10800|     10000|[{scattered cloud...| {300, NULL, 4.12}|\n",
      "|stations|   {3}|200| {39.9075, 116.3972}|1748323349|1816670|{29.42, 1008, 27,...|    Beijing|  NULL|{CN, 9609, 174829...|   28800|     10000|[{clear sky, 01d,...| {225, 1.74, 1.67}|\n",
      "|stations| {100}|200|  {55.7522, 37.6156}|1748323147| 524901|{19.74, 1003, 33,...|     Moscow|  NULL|{RU, 2094500, 174...|   10800|     10000|[{overcast clouds...|{163, 12.82, 5.04}|\n",
      "|stations|   {0}|200|  {25.2582, 55.3047}|1748323349| 292223|{36.1, 1001, 30, ...|      Dubai|  NULL|{AE, 7537, 174830...|   14400|     10000|[{clear sky, 01d,...| {290, NULL, 5.14}|\n",
      "|stations|  {64}|200| {-33.9258, 18.4232}|1748323349|3369157|{13.67, 1020, 70,...|  Cape Town|  NULL|{ZA, 2073005, 174...|    7200|     10000|[{broken clouds, ...| {293, 4.47, 2.24}|\n",
      "|stations|   {0}|200|  {41.8947, 12.4839}|1748323251|3169070|{16.66, 1009, 65,...|       Rome|  NULL|{IT, 2000926, 174...|    7200|     10000|[{clear sky, 01d,...|   {0, NULL, 0.51}|\n",
      "|stations|  {66}|200|   {13.75, 100.5167}|1748323350|1609350|{38.39, 1007, 83,...|    Bangkok|  NULL|{TH, 2073525, 174...|   25200|     10000|[{broken clouds, ...| {232, 5.32, 4.57}|\n",
      "|stations|   {0}|200|  {41.0138, 28.9497}|1748323350| 745044|{15.06, 1007, 77,...|   Istanbul|  NULL|{TR, 2000954, 174...|   10800|     10000|[{clear sky, 01d,...| {230, NULL, 2.06}|\n",
      "|stations|   {0}|200|{34.0522, -118.2437}|1748323350|5368361|{16.0, 994, 84, 1...|Los Angeles|  NULL|{US, 2007097, 174...|  -25200|     10000|[{clear sky, 01n,...| {210, NULL, 2.06}|\n",
      "|stations|  {40}|200|  {1.2897, 103.8501}|1748323060|1880252|{38.36, 1008, 64,...|  Singapore|  NULL|{SG, 2100385, 174...|   28800|     10000|[{scattered cloud...| {100, NULL, 3.09}|\n",
      "+--------+------+---+--------------------+----------+-------+--------------------+-----------+------+--------------------+--------+----------+--------------------+------------------+\n",
      "only showing top 20 rows\n",
      "\n"
     ]
    }
   ],
   "source": [
    "df.show()"
   ]
  },
  {
   "cell_type": "code",
   "execution_count": 96,
   "id": "0e7bfd86-9451-4da5-9823-327fff11bea4",
   "metadata": {},
   "outputs": [],
   "source": [
    "# Create location DF\n",
    "location_df = df.select(\n",
    "    df[\"id\"].alias(\"ID\"),\n",
    "    df[\"name\"].alias(\"City\"),\n",
    "    df[\"sys.country\"].alias(\"Country\"),\n",
    "    df[\"coord.lat\"].alias(\"Latitude\"),\n",
    "    df[\"coord.lon\"].alias(\"Longitude\")\n",
    ").orderBy(\"ID\")"
   ]
  },
  {
   "cell_type": "code",
   "execution_count": 97,
   "id": "87fa2434-b849-43f9-ad88-e41290ad52f4",
   "metadata": {},
   "outputs": [],
   "source": [
    "# Create Temperature & Pressure Table\n",
    "temperature_df = df.select(\n",
    "    df[\"id\"].alias(\"City_ID\"),\n",
    "    df[\"main.temp\"].alias(\"Temp\"),\n",
    "    df[\"main.temp_max\"].alias(\"Temp_Max\"),\n",
    "    df[\"main.temp_min\"].alias(\"Temp_Min\"),\n",
    "    df[\"main.feels_like\"].alias(\"Feels_Like\"),\n",
    "    df[\"main.humidity\"].alias(\"Humidity\"),\n",
    "    df[\"main.pressure\"].alias(\"Pressure\"),\n",
    "    df[\"main.sea_level\"].alias(\"Sea_Level\")\n",
    ").orderBy(\"City_ID\")"
   ]
  },
  {
   "cell_type": "code",
   "execution_count": 98,
   "id": "40202329-fcbb-45fd-bef2-94fcf6ebb4c5",
   "metadata": {},
   "outputs": [],
   "source": [
    "# Create Wind & Clouds Table\n",
    "wind_df = df.select(\n",
    "    df[\"id\"].alias(\"City_ID\"),\n",
    "    df[\"clouds.all\"].alias(\"Cloudiness_Percentage\"),\n",
    "    df[\"wind.deg\"].alias(\"Wind_Direction_Degree\"),\n",
    "    df[\"wind.gust\"].alias(\"Gust_Speed\"),\n",
    "    df[\"wind.speed\"].alias(\"Wind_Speed\")\n",
    ").orderBy(\"City_ID\")"
   ]
  },
  {
   "cell_type": "code",
   "execution_count": 99,
   "id": "83097b91-ca05-4c19-a1c6-d20c2a0c2836",
   "metadata": {},
   "outputs": [],
   "source": [
    "# Create Weather Description\n",
    "weather_desc_df = df.select(\n",
    "    df[\"id\"].alias(\"City_ID\"),\n",
    "    df[\"weather\"][0][\"main\"].alias(\"Main_Weather\"),\n",
    "    df[\"weather\"][0][\"description\"].alias(\"Description\"),\n",
    "    df[\"weather\"][0][\"icon\"].alias(\"Icon\")\n",
    ").orderBy(\"City_ID\")"
   ]
  },
  {
   "cell_type": "code",
   "execution_count": 100,
   "id": "92a024cb-3e12-4ea9-9804-211a87b6928c",
   "metadata": {},
   "outputs": [],
   "source": [
    "# Sunrise_Sunset_Table\n",
    "sunrise_sunset_df = df.select(\n",
    "    df[\"id\"].alias(\"City_ID\"),\n",
    "    df[\"sys.sunrise\"].alias(\"Sunrise\"),\n",
    "    df[\"sys.sunset\"].alias(\"Sunset\"),\n",
    "    df[\"timezone\"].alias(\"Timezone\")\n",
    ").orderBy(\"City_ID\")"
   ]
  },
  {
   "cell_type": "code",
   "execution_count": 105,
   "id": "4c3fbddc-68fb-4a5d-bb9d-a9189392f6a9",
   "metadata": {},
   "outputs": [
    {
     "name": "stderr",
     "output_type": "stream",
     "text": [
      "25/05/26 23:23:59 WARN WindowExec: No Partition Defined for Window operation! Moving all data to a single partition, this can cause serious performance degradation.\n",
      "25/05/26 23:23:59 WARN WindowExec: No Partition Defined for Window operation! Moving all data to a single partition, this can cause serious performance degradation.\n",
      "25/05/26 23:23:59 WARN WindowExec: No Partition Defined for Window operation! Moving all data to a single partition, this can cause serious performance degradation.\n",
      "25/05/26 23:23:59 WARN WindowExec: No Partition Defined for Window operation! Moving all data to a single partition, this can cause serious performance degradation.\n",
      "25/05/26 23:23:59 WARN WindowExec: No Partition Defined for Window operation! Moving all data to a single partition, this can cause serious performance degradation.\n"
     ]
    },
    {
     "name": "stdout",
     "output_type": "stream",
     "text": [
      "+-------+----------+-------+--------+--------+--------------+--------+----+\n",
      "|     ID|      CITY|COUNTRY| SUNRISE|  SUNSET|DAYLIGHT_HOURS|TIMEZONE|RANK|\n",
      "+-------+----------+-------+--------+--------+--------------+--------+----+\n",
      "|3413829| Reykjavik|     IS|21:35:47|17:14:04|         19.64|       0|   1|\n",
      "| 658225|  Helsinki|     FI|22:16:05|16:19:05|         18.05|   10800|   2|\n",
      "|3143244|      Oslo|     NO|22:15:08|16:13:34|         17.97|    7200|   3|\n",
      "|2673730| Stockholm|     SE|21:51:00|15:39:09|          17.8|    7200|   4|\n",
      "| 524901|    Moscow|     RU|21:59:13|14:54:30|         16.92|   10800|   5|\n",
      "|2618425|Copenhagen|     DK|22:39:49|15:34:20|         16.91|    7200|   6|\n",
      "|2964574|    Dublin|     IE|23:08:44|15:36:05|         16.46|    3600|   7|\n",
      "|2950159|    Berlin|     DE|22:54:25|15:12:58|         16.31|    7200|   8|\n",
      "|2759794| Amsterdam|     NL|23:29:14|15:46:19|         16.28|    7200|   9|\n",
      "| 756135|    Warsaw|     PL|22:25:32|14:41:02|         16.26|    7200|  10|\n",
      "+-------+----------+-------+--------+--------+--------------+--------+----+\n",
      "\n"
     ]
    },
    {
     "name": "stderr",
     "output_type": "stream",
     "text": [
      "25/05/26 23:23:59 WARN WindowExec: No Partition Defined for Window operation! Moving all data to a single partition, this can cause serious performance degradation.\n",
      "25/05/26 23:23:59 WARN WindowExec: No Partition Defined for Window operation! Moving all data to a single partition, this can cause serious performance degradation.\n",
      "25/05/26 23:23:59 WARN WindowExec: No Partition Defined for Window operation! Moving all data to a single partition, this can cause serious performance degradation.\n",
      "25/05/26 23:23:59 WARN WindowExec: No Partition Defined for Window operation! Moving all data to a single partition, this can cause serious performance degradation.\n",
      "25/05/26 23:23:59 WARN WindowExec: No Partition Defined for Window operation! Moving all data to a single partition, this can cause serious performance degradation.\n",
      "25/05/26 23:23:59 WARN WindowExec: No Partition Defined for Window operation! Moving all data to a single partition, this can cause serious performance degradation.\n",
      "25/05/26 23:23:59 WARN WindowExec: No Partition Defined for Window operation! Moving all data to a single partition, this can cause serious performance degradation.\n",
      "25/05/26 23:23:59 WARN WindowExec: No Partition Defined for Window operation! Moving all data to a single partition, this can cause serious performance degradation.\n",
      "25/05/26 23:23:59 WARN WindowExec: No Partition Defined for Window operation! Moving all data to a single partition, this can cause serious performance degradation.\n"
     ]
    }
   ],
   "source": [
    "# Which cities have the longest daylight duration?\n",
    "# Convert the time into readable time. Order by daylight hour\n",
    "top_10_cities = sunrise_sunset_df.select(\n",
    "    col(\"City_ID\"), \n",
    "    date_format(from_unixtime(col(\"Sunrise\") + col(\"Timezone\")),\"HH:mm:ss\").alias(\"Sunrise\"),\n",
    "    date_format(from_unixtime(col(\"Sunset\") + col(\"Timezone\")),\"HH:mm:ss\").alias(\"Sunset\"), \n",
    "    round(((col(\"Sunset\") - col(\"Sunrise\")) / 3600),2).alias(\"Daylight_Hours\"),\n",
    "    col(\"Timezone\")).orderBy(col(\"Daylight_Hours\").desc()).limit(10)\n",
    "\n",
    "final_table = top_10_cities.join(location_df, top_10_cities[\"City_ID\"] == location_df[\"ID\"]\n",
    "                ).select(location_df[\"ID\"], \n",
    "                         location_df[\"City\"], \n",
    "                         location_df[\"Country\"], \n",
    "                         top_10_cities[\"Sunrise\"], \n",
    "                         top_10_cities[\"Sunset\"], \n",
    "                         top_10_cities[\"Daylight_Hours\"], \n",
    "                         top_10_cities[\"Timezone\"]\n",
    "                ).orderBy(col(\"Daylight_Hours\").desc())\n",
    "#final_table.show()\n",
    "\n",
    "final_table.createOrReplaceTempView(\"Final_Table\")\n",
    "\n",
    "query = '''\n",
    "        SELECT ID, CITY, COUNTRY, SUNRISE, SUNSET, DAYLIGHT_HOURS, TIMEZONE, RANK()OVER(ORDER BY DAYLIGHT_HOURS DESC) RANK\n",
    "        FROM FINAL_TABLE\n",
    "    '''\n",
    "result = spark.sql(query)\n",
    "result.show()\n",
    "\n",
    "data = result.toPandas()\n",
    "path = os.path.join(weather_result_filename, 'Longest_Daytime.parquet')\n",
    "data.to_parquet(path, engine='pyarrow') \n",
    "path = os.path.join(weather_result_filename, 'Longest_Daytime.csv')\n",
    "data.to_csv(path, index=False)\n",
    "path = os.path.join(weather_result_filename, 'Longest_Daytime.json')\n",
    "data.to_json(path, orient='records', lines=True)"
   ]
  },
  {
   "cell_type": "code",
   "execution_count": 106,
   "id": "d643a07f-1d79-4f07-939f-55b88803d338",
   "metadata": {},
   "outputs": [
    {
     "name": "stderr",
     "output_type": "stream",
     "text": [
      "25/05/26 23:24:03 WARN WindowExec: No Partition Defined for Window operation! Moving all data to a single partition, this can cause serious performance degradation.\n",
      "25/05/26 23:24:03 WARN WindowExec: No Partition Defined for Window operation! Moving all data to a single partition, this can cause serious performance degradation.\n",
      "25/05/26 23:24:03 WARN WindowExec: No Partition Defined for Window operation! Moving all data to a single partition, this can cause serious performance degradation.\n",
      "25/05/26 23:24:03 WARN WindowExec: No Partition Defined for Window operation! Moving all data to a single partition, this can cause serious performance degradation.\n",
      "25/05/26 23:24:03 WARN WindowExec: No Partition Defined for Window operation! Moving all data to a single partition, this can cause serious performance degradation.\n",
      "25/05/26 23:24:03 WARN WindowExec: No Partition Defined for Window operation! Moving all data to a single partition, this can cause serious performance degradation.\n",
      "25/05/26 23:24:03 WARN WindowExec: No Partition Defined for Window operation! Moving all data to a single partition, this can cause serious performance degradation.\n",
      "25/05/26 23:24:03 WARN WindowExec: No Partition Defined for Window operation! Moving all data to a single partition, this can cause serious performance degradation.\n"
     ]
    },
    {
     "name": "stdout",
     "output_type": "stream",
     "text": [
      "+-------+------------+-------+-----+----------+----------+----+\n",
      "|CITY_ID|        CITY|COUNTRY| TEMP|FEELS_LIKE|DIFFERENCE|RANK|\n",
      "+-------+------------+-------+-----+----------+----------+----+\n",
      "|1609350|     Bangkok|     TH|31.39|     38.39|       7.0|   1|\n",
      "|1642911|     Jakarta|     ID|33.87|     40.87|       7.0|   1|\n",
      "|1735161|Kuala Lumpur|     MY|34.03|     41.03|       7.0|   1|\n",
      "|1701668|      Manila|     PH|34.09|     41.09|       7.0|   1|\n",
      "|1880252|   Singapore|     SG|32.01|     38.36|      6.35|   5|\n",
      "|2332459|       Lagos|     NG|27.13|     31.57|      4.44|   6|\n",
      "|1275339|      Mumbai|     IN|27.99|     31.77|      3.78|   7|\n",
      "|1668341|      Taipei|     TW|27.82|      30.7|      2.88|   8|\n",
      "|3413829|   Reykjavik|     IS| 6.81|       4.3|      2.51|   9|\n",
      "| 108410|      Riyadh|     SA|32.51|     30.19|      2.32|  10|\n",
      "+-------+------------+-------+-----+----------+----------+----+\n",
      "\n"
     ]
    },
    {
     "name": "stderr",
     "output_type": "stream",
     "text": [
      "25/05/26 23:24:03 WARN WindowExec: No Partition Defined for Window operation! Moving all data to a single partition, this can cause serious performance degradation.\n",
      "25/05/26 23:24:03 WARN WindowExec: No Partition Defined for Window operation! Moving all data to a single partition, this can cause serious performance degradation.\n",
      "25/05/26 23:24:03 WARN WindowExec: No Partition Defined for Window operation! Moving all data to a single partition, this can cause serious performance degradation.\n",
      "25/05/26 23:24:03 WARN WindowExec: No Partition Defined for Window operation! Moving all data to a single partition, this can cause serious performance degradation.\n",
      "25/05/26 23:24:03 WARN WindowExec: No Partition Defined for Window operation! Moving all data to a single partition, this can cause serious performance degradation.\n",
      "25/05/26 23:24:03 WARN WindowExec: No Partition Defined for Window operation! Moving all data to a single partition, this can cause serious performance degradation.\n"
     ]
    }
   ],
   "source": [
    "# Which city has the highest difference between actual temperature and feels-like temperature?\n",
    "# temperature_df\n",
    "top_10_cities = temperature_df.select(\n",
    "    col(\"City_ID\"), \n",
    "    col(\"Temp\"), \n",
    "    col(\"Feels_Like\"), \n",
    "    round(abs(col(\"Temp\") - col(\"Feels_Like\")),2).alias(\"Difference\")\n",
    "        ).orderBy(col(\"Difference\").desc()).limit(10)\n",
    "#top_10_cities.show()\n",
    "\n",
    "final_top_10_cities_temperature = top_10_cities.join(location_df, top_10_cities[\"City_ID\"] == location_df[\"ID\"]).select(\n",
    "    top_10_cities[\"City_ID\"], \n",
    "    location_df[\"City\"], \n",
    "    location_df[\"Country\"], \n",
    "    top_10_cities[\"Temp\"], \n",
    "    top_10_cities[\"Feels_Like\"], \n",
    "    top_10_cities[\"Difference\"]\n",
    "        ).orderBy(col(\"Difference\").desc())\n",
    "#final_top_10_cities_temperature.show()\n",
    "\n",
    "final_top_10_cities_temperature.createOrReplaceTempView(\"Final_Table\")\n",
    "\n",
    "query = '''\n",
    "        SELECT CITY_ID, CITY, COUNTRY, TEMP, FEELS_LIKE, DIFFERENCE, RANK()OVER(ORDER BY DIFFERENCE DESC) RANK\n",
    "        FROM FINAL_TABLE\n",
    "    '''\n",
    "\n",
    "final_result = spark.sql(query)\n",
    "final_result.show()\n",
    "\n",
    "data = final_result.toPandas()\n",
    "path = os.path.join(weather_result_filename, 'Temperature_Feel_Like_Temperature_Diff.parquet')\n",
    "data.to_parquet(path, engine='pyarrow') \n",
    "path = os.path.join(weather_result_filename, 'Temperature_Feel_Like_Temperature_Diff.csv')\n",
    "data.to_csv(path, index=False)\n",
    "path = os.path.join(weather_result_filename, 'Temperature_Feel_Like_Temperature_Diff.json')\n",
    "data.to_json(path, orient='records', lines=True)"
   ]
  },
  {
   "cell_type": "code",
   "execution_count": 90,
   "id": "8e0e20ad-8ee5-4ff1-a161-b62b77c33377",
   "metadata": {},
   "outputs": [
    {
     "name": "stdout",
     "output_type": "stream",
     "text": [
      "weather_results/50_City_Results_2025-May-26_22-41\n"
     ]
    }
   ],
   "source": [
    "weather_result_filename = setup_weather_data.get_weather_result_filename()\n",
    "print(weather_result_filename)"
   ]
  },
  {
   "cell_type": "code",
   "execution_count": 113,
   "id": "658aa716-7879-40d9-a1a6-59a417f3468a",
   "metadata": {},
   "outputs": [
    {
     "name": "stdout",
     "output_type": "stream",
     "text": [
      "Hello\n"
     ]
    }
   ],
   "source": [
    "weather_uploader = UploadWeatherData(weather_result_filename)"
   ]
  },
  {
   "cell_type": "code",
   "execution_count": 114,
   "id": "5c864a72-686f-4135-a171-7e26c90c794f",
   "metadata": {},
   "outputs": [
    {
     "name": "stdout",
     "output_type": "stream",
     "text": [
      "hi\n",
      "File: weather_results/50_City_Results_2025-May-26_23-22/Temperature_Feel_Like_Temperature_Diff.parquet uploaded\n",
      "File: weather_results/50_City_Results_2025-May-26_23-22/Longest_Daytime.csv uploaded\n",
      "File: weather_results/50_City_Results_2025-May-26_23-22/Longest_Daytime.parquet uploaded\n",
      "File: weather_results/50_City_Results_2025-May-26_23-22/Longest_Daytime.json uploaded\n",
      "File: weather_results/50_City_Results_2025-May-26_23-22/Temperature_Feel_Like_Temperature_Diff.json uploaded\n",
      "File: weather_results/50_City_Results_2025-May-26_23-22/Temperature_Feel_Like_Temperature_Diff.csv uploaded\n"
     ]
    }
   ],
   "source": [
    "# Upload to AWS\n",
    "weather_uploader.upload_to_AWS()"
   ]
  },
  {
   "cell_type": "code",
   "execution_count": 107,
   "id": "22281807-d328-446f-ac17-68936618dd36",
   "metadata": {},
   "outputs": [],
   "source": [
    "# Upload to AWS\n",
    "r_name = 'us-west-1'\n",
    "s3 = boto3.client('s3', region_name=r_name)\n",
    "bucket_name = 'project-cloud-saul2-00000002-data-cleaning'"
   ]
  },
  {
   "cell_type": "code",
   "execution_count": 108,
   "id": "4eb8074d-1f39-4011-99a1-d8b580ee95de",
   "metadata": {},
   "outputs": [
    {
     "name": "stdout",
     "output_type": "stream",
     "text": [
      "weather_results/50_City_Results_2025-May-26_23-22\n"
     ]
    }
   ],
   "source": [
    "print(weather_result_filename)"
   ]
  },
  {
   "cell_type": "code",
   "execution_count": 109,
   "id": "46215837-351a-413f-a0c9-f7bc895f52e7",
   "metadata": {},
   "outputs": [
    {
     "name": "stdout",
     "output_type": "stream",
     "text": [
      "File: weather_results/50_City_Results_2025-May-26_23-22/Temperature_Feel_Like_Temperature_Diff.parquet uploaded\n",
      "File: weather_results/50_City_Results_2025-May-26_23-22/Longest_Daytime.csv uploaded\n",
      "File: weather_results/50_City_Results_2025-May-26_23-22/Longest_Daytime.parquet uploaded\n",
      "File: weather_results/50_City_Results_2025-May-26_23-22/Longest_Daytime.json uploaded\n",
      "File: weather_results/50_City_Results_2025-May-26_23-22/Temperature_Feel_Like_Temperature_Diff.json uploaded\n",
      "File: weather_results/50_City_Results_2025-May-26_23-22/Temperature_Feel_Like_Temperature_Diff.csv uploaded\n"
     ]
    }
   ],
   "source": [
    "for filename in os.listdir(weather_result_filename):\n",
    "    local_file_path = os.path.join(weather_result_filename,filename)\n",
    "\n",
    "    s3_file_path = weather_result_filename + \"/\" +filename\n",
    "    #print(folder_name)\n",
    "    #print(filename)\n",
    "    #print(s3_file_path)\n",
    "    try:\n",
    "        # Upload  file to S3\n",
    "        s3.upload_file(local_file_path, bucket_name, s3_file_path)\n",
    "        print(\"File: \"+ local_file_path+ \" uploaded\")\n",
    "        #print(\"xd\")\n",
    "    except Exception as e:\n",
    "        print(\"Error: \" + local_file_path)"
   ]
  }
 ],
 "metadata": {
  "kernelspec": {
   "display_name": "Python 3 (ipykernel)",
   "language": "python",
   "name": "python3"
  },
  "language_info": {
   "codemirror_mode": {
    "name": "ipython",
    "version": 3
   },
   "file_extension": ".py",
   "mimetype": "text/x-python",
   "name": "python",
   "nbconvert_exporter": "python",
   "pygments_lexer": "ipython3",
   "version": "3.10.17"
  }
 },
 "nbformat": 4,
 "nbformat_minor": 5
}
